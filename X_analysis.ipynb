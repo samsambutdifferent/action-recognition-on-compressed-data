{
 "cells": [
  {
   "cell_type": "code",
   "execution_count": 2,
   "metadata": {},
   "outputs": [],
   "source": [
    "import pandas as pd\n",
    "\n",
    "file_prefix = \"right_left_up_down_1200\"\n",
    "data_folder = \"data_\" + file_prefix\n",
    "\n",
    "indx_df = pd.read_csv(f\"{data_folder}/indx_df.csv\")"
   ]
  },
  {
   "cell_type": "code",
   "execution_count": 4,
   "metadata": {},
   "outputs": [
    {
     "data": {
      "text/plain": [
       "array(['Pushing something from left to right',\n",
       "       'Pushing something from right to left', 'Moving something up',\n",
       "       'Moving something down'], dtype=object)"
      ]
     },
     "execution_count": 4,
     "metadata": {},
     "output_type": "execute_result"
    }
   ],
   "source": [
    "indx_df[\"category\"].unique()"
   ]
  },
  {
   "cell_type": "code",
   "execution_count": 13,
   "metadata": {},
   "outputs": [
    {
     "data": {
      "text/html": [
       "<div>\n",
       "<style scoped>\n",
       "    .dataframe tbody tr th:only-of-type {\n",
       "        vertical-align: middle;\n",
       "    }\n",
       "\n",
       "    .dataframe tbody tr th {\n",
       "        vertical-align: top;\n",
       "    }\n",
       "\n",
       "    .dataframe thead th {\n",
       "        text-align: right;\n",
       "    }\n",
       "</style>\n",
       "<table border=\"1\" class=\"dataframe\">\n",
       "  <thead>\n",
       "    <tr style=\"text-align: right;\">\n",
       "      <th></th>\n",
       "      <th>category</th>\n",
       "      <th>type</th>\n",
       "      <th>name</th>\n",
       "    </tr>\n",
       "  </thead>\n",
       "  <tbody>\n",
       "    <tr>\n",
       "      <th>1080</th>\n",
       "      <td>Pushing something from left to right</td>\n",
       "      <td>validation</td>\n",
       "      <td>198879.avi</td>\n",
       "    </tr>\n",
       "    <tr>\n",
       "      <th>1081</th>\n",
       "      <td>Pushing something from left to right</td>\n",
       "      <td>validation</td>\n",
       "      <td>207033.avi</td>\n",
       "    </tr>\n",
       "    <tr>\n",
       "      <th>1082</th>\n",
       "      <td>Pushing something from left to right</td>\n",
       "      <td>validation</td>\n",
       "      <td>148116.avi</td>\n",
       "    </tr>\n",
       "    <tr>\n",
       "      <th>1083</th>\n",
       "      <td>Pushing something from left to right</td>\n",
       "      <td>validation</td>\n",
       "      <td>160294.avi</td>\n",
       "    </tr>\n",
       "    <tr>\n",
       "      <th>1084</th>\n",
       "      <td>Pushing something from left to right</td>\n",
       "      <td>validation</td>\n",
       "      <td>149064.avi</td>\n",
       "    </tr>\n",
       "    <tr>\n",
       "      <th>...</th>\n",
       "      <td>...</td>\n",
       "      <td>...</td>\n",
       "      <td>...</td>\n",
       "    </tr>\n",
       "    <tr>\n",
       "      <th>1195</th>\n",
       "      <td>Pushing something from left to right</td>\n",
       "      <td>validation</td>\n",
       "      <td>22159.avi</td>\n",
       "    </tr>\n",
       "    <tr>\n",
       "      <th>1196</th>\n",
       "      <td>Pushing something from left to right</td>\n",
       "      <td>validation</td>\n",
       "      <td>150190.avi</td>\n",
       "    </tr>\n",
       "    <tr>\n",
       "      <th>1197</th>\n",
       "      <td>Pushing something from left to right</td>\n",
       "      <td>validation</td>\n",
       "      <td>75334.avi</td>\n",
       "    </tr>\n",
       "    <tr>\n",
       "      <th>1198</th>\n",
       "      <td>Pushing something from left to right</td>\n",
       "      <td>validation</td>\n",
       "      <td>3694.avi</td>\n",
       "    </tr>\n",
       "    <tr>\n",
       "      <th>1199</th>\n",
       "      <td>Pushing something from left to right</td>\n",
       "      <td>validation</td>\n",
       "      <td>6769.avi</td>\n",
       "    </tr>\n",
       "  </tbody>\n",
       "</table>\n",
       "<p>120 rows × 3 columns</p>\n",
       "</div>"
      ],
      "text/plain": [
       "                                  category        type        name\n",
       "1080  Pushing something from left to right  validation  198879.avi\n",
       "1081  Pushing something from left to right  validation  207033.avi\n",
       "1082  Pushing something from left to right  validation  148116.avi\n",
       "1083  Pushing something from left to right  validation  160294.avi\n",
       "1084  Pushing something from left to right  validation  149064.avi\n",
       "...                                    ...         ...         ...\n",
       "1195  Pushing something from left to right  validation   22159.avi\n",
       "1196  Pushing something from left to right  validation  150190.avi\n",
       "1197  Pushing something from left to right  validation   75334.avi\n",
       "1198  Pushing something from left to right  validation    3694.avi\n",
       "1199  Pushing something from left to right  validation    6769.avi\n",
       "\n",
       "[120 rows x 3 columns]"
      ]
     },
     "execution_count": 13,
     "metadata": {},
     "output_type": "execute_result"
    }
   ],
   "source": [
    "x = indx_df[indx_df[\"category\"] == \"Pushing something from left to right\"]\n",
    "x = x[x[\"type\"] == \"validation\"]\n",
    "\n",
    "x"
   ]
  },
  {
   "cell_type": "markdown",
   "metadata": {},
   "source": [
    "FRAMES FROM VIDEO FILES\n",
    "\n",
    "Pushing something from left to right,train,51.avi\n",
    "\n",
    "Pushing something from right to left,train,131.avi\n",
    "\n",
    "Moving something down,train,524.avi\n",
    "\n",
    "Moving something up,train,1739.avi\n"
   ]
  },
  {
   "cell_type": "code",
   "execution_count": 8,
   "metadata": {},
   "outputs": [
    {
     "name": "stdout",
     "output_type": "stream",
     "text": [
      "\n"
     ]
    },
    {
     "ename": "AttributeError",
     "evalue": "'NoneType' object has no attribute '__array_interface__'",
     "output_type": "error",
     "traceback": [
      "\u001b[0;31m---------------------------------------------------------------------------\u001b[0m",
      "\u001b[0;31mAttributeError\u001b[0m                            Traceback (most recent call last)",
      "Cell \u001b[0;32mIn[8], line 30\u001b[0m\n\u001b[1;32m     28\u001b[0m     timestamps\u001b[38;5;241m.\u001b[39mappend(timestamp)\n\u001b[1;32m     29\u001b[0m     kg \u001b[38;5;241m=\u001b[39m ret\n\u001b[0;32m---> 30\u001b[0m     img \u001b[38;5;241m=\u001b[39m \u001b[43mImage\u001b[49m\u001b[38;5;241;43m.\u001b[39;49m\u001b[43mfromarray\u001b[49m\u001b[43m(\u001b[49m\u001b[43mframe\u001b[49m\u001b[43m)\u001b[49m\n\u001b[1;32m     31\u001b[0m     img\u001b[38;5;241m.\u001b[39msave(\u001b[38;5;124mf\u001b[39m\u001b[38;5;124m\"\u001b[39m\u001b[38;5;124m./\u001b[39m\u001b[38;5;132;01m{\u001b[39;00mfile\u001b[38;5;132;01m}\u001b[39;00m\u001b[38;5;124m/\u001b[39m\u001b[38;5;132;01m{\u001b[39;00mtimestamp\u001b[38;5;132;01m}\u001b[39;00m\u001b[38;5;124m-\u001b[39m\u001b[38;5;132;01m{\u001b[39;00mframe_type\u001b[38;5;132;01m}\u001b[39;00m\u001b[38;5;124m.png\u001b[39m\u001b[38;5;124m\"\u001b[39m)\n\u001b[1;32m     33\u001b[0m cap\u001b[38;5;241m.\u001b[39mrelease()\n",
      "File \u001b[0;32m~/.local/lib/python3.10/site-packages/PIL/Image.py:3084\u001b[0m, in \u001b[0;36mfromarray\u001b[0;34m(obj, mode)\u001b[0m\n\u001b[1;32m   3037\u001b[0m \u001b[38;5;28;01mdef\u001b[39;00m \u001b[38;5;21mfromarray\u001b[39m(obj, mode\u001b[38;5;241m=\u001b[39m\u001b[38;5;28;01mNone\u001b[39;00m):\n\u001b[1;32m   3038\u001b[0m \u001b[38;5;250m    \u001b[39m\u001b[38;5;124;03m\"\"\"\u001b[39;00m\n\u001b[1;32m   3039\u001b[0m \u001b[38;5;124;03m    Creates an image memory from an object exporting the array interface\u001b[39;00m\n\u001b[1;32m   3040\u001b[0m \u001b[38;5;124;03m    (using the buffer protocol)::\u001b[39;00m\n\u001b[0;32m   (...)\u001b[0m\n\u001b[1;32m   3082\u001b[0m \u001b[38;5;124;03m    .. versionadded:: 1.1.6\u001b[39;00m\n\u001b[1;32m   3083\u001b[0m \u001b[38;5;124;03m    \"\"\"\u001b[39;00m\n\u001b[0;32m-> 3084\u001b[0m     arr \u001b[38;5;241m=\u001b[39m \u001b[43mobj\u001b[49m\u001b[38;5;241;43m.\u001b[39;49m\u001b[43m__array_interface__\u001b[49m\n\u001b[1;32m   3085\u001b[0m     shape \u001b[38;5;241m=\u001b[39m arr[\u001b[38;5;124m\"\u001b[39m\u001b[38;5;124mshape\u001b[39m\u001b[38;5;124m\"\u001b[39m]\n\u001b[1;32m   3086\u001b[0m     ndim \u001b[38;5;241m=\u001b[39m \u001b[38;5;28mlen\u001b[39m(shape)\n",
      "\u001b[0;31mAttributeError\u001b[0m: 'NoneType' object has no attribute '__array_interface__'"
     ]
    }
   ],
   "source": [
    "import os\n",
    "from PIL import Image\n",
    "from mvextractor.videocap import VideoCap\n",
    "from mvextractor.videocap import VideoCap\n",
    "\n",
    "file = \"1739\"\n",
    "\n",
    "cap = VideoCap()\n",
    "cap.open(f\"./{file}.avi\")\n",
    "\n",
    "frames_lst = []\n",
    "motion_vector_lst = []\n",
    "frame_types = []\n",
    "timestamps = []\n",
    "kg = True\n",
    "\n",
    "\n",
    "print()\n",
    "\n",
    "if file not in os.listdir():\n",
    "    os.mkdir(f\"./{file}\")\n",
    "\n",
    "while kg:\n",
    "    ret, frame, motion_vectors, frame_type, timestamp = cap.read()\n",
    "    frames_lst.append(frame)\n",
    "    motion_vector_lst.append(motion_vectors)\n",
    "    frame_types.append(frame_type)\n",
    "    timestamps.append(timestamp)\n",
    "    kg = ret\n",
    "    img = Image.fromarray(frame)\n",
    "    img.save(f\"./{file}/{timestamp}-{frame_type}.png\")\n",
    "\n",
    "cap.release()\n"
   ]
  },
  {
   "cell_type": "code",
   "execution_count": null,
   "metadata": {},
   "outputs": [],
   "source": []
  }
 ],
 "metadata": {
  "kernelspec": {
   "display_name": "Python 3",
   "language": "python",
   "name": "python3"
  },
  "language_info": {
   "codemirror_mode": {
    "name": "ipython",
    "version": 3
   },
   "file_extension": ".py",
   "mimetype": "text/x-python",
   "name": "python",
   "nbconvert_exporter": "python",
   "pygments_lexer": "ipython3",
   "version": "3.10.13"
  }
 },
 "nbformat": 4,
 "nbformat_minor": 2
}
