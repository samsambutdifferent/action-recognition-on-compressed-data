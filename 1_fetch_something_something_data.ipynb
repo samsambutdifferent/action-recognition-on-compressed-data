{
 "cells": [
  {
   "cell_type": "code",
   "execution_count": 12,
   "metadata": {},
   "outputs": [
    {
     "name": "stdout",
     "output_type": "stream",
     "text": [
      "[<Blob: something-somethingv2-zips, 20bn-something-something-v2-00.zip, 1700606448445788>, <Blob: something-somethingv2-zips, 20bn-something-something-v2-01.zip, 1700606448551130>, <Blob: something-somethingv2-zips, 20bn-something-something-v2-02.zip, 1700606449029072>, <Blob: something-somethingv2-zips, 20bn-something-something-v2-03.zip, 1700608686951638>, <Blob: something-somethingv2-zips, 20bn-something-something-v2-04.zip, 1700608686938056>, <Blob: something-somethingv2-zips, 20bn-something-something-v2-05.zip, 1700608685625779>, <Blob: something-somethingv2-zips, 20bn-something-something-v2-06.zip, 1700610612904644>, <Blob: something-somethingv2-zips, 20bn-something-something-v2-07.zip, 1700610613357866>, <Blob: something-somethingv2-zips, 20bn-something-something-v2-08.zip, 1700610609076515>, <Blob: something-somethingv2-zips, 20bn-something-something-v2-09.zip, 1700611201322953>, <Blob: something-somethingv2-zips, 20bn-something-something-v2-10.zip, 1700643640453112>, <Blob: something-somethingv2-zips, 20bn-something-something-v2-11.zip, 1700643640862811>, <Blob: something-somethingv2-zips, 20bn-something-something-v2-12.zip, 1700643644856676>, <Blob: something-somethingv2-zips, 20bn-something-something-v2-13.zip, 1700644232278534>, <Blob: something-somethingv2-zips, 20bn-something-something-v2-14.zip, 1700650833926865>, <Blob: something-somethingv2-zips, 20bn-something-something-v2-15.zip, 1700650834167076>, <Blob: something-somethingv2-zips, 20bn-something-something-v2-16.zip, 1700650827874868>, <Blob: something-somethingv2-zips, 20bn-something-something-v2-17.zip, 1700651788810727>, <Blob: something-somethingv2-zips, 20bn-something-something-v2-18.zip, 1700652302076397>, <Blob: something-somethingv2-zips, 20bn-something-something-v2-19.zip, 1700651972963563>]\n"
     ]
    }
   ],
   "source": [
    "import pandas as pd\n",
    "import os\n",
    "from google.cloud import storage\n",
    "\n",
    "file_prefix = \"right_left_up_down_1200\"\n",
    "data_folder = \"data_\" + file_prefix\n",
    "os.environ[\"GOOGLE_APPLICATION_CREDENTIALS\"] = \"gcsaccesskey.json\"\n",
    "\n",
    "def download_files_to_folder():\n",
    "    client = storage.Client()\n",
    "\n",
    "    bucket = \"something-somethingv2-zips\"\n",
    "    bucket = client.bucket(bucket)\n",
    "\n",
    "    print(list(bucket.list_blobs()))\n",
    "\n",
    "    for blob in bucket.list_blobs():\n",
    "        blob.download_to_filename(blob.name)\n",
    "\n",
    "\n",
    "\n",
    "download_files_to_folder()"
   ]
  },
  {
   "cell_type": "markdown",
   "metadata": {},
   "source": [
    "# Fetch Something Something Data-set\n",
    "\n",
    "[Something Something v2 webpage](https://developer.qualcomm.com/software/ai-datasets/something-something)\n",
    "\n",
    "The video data is provided as one large TGZ archive, split into parts of 1 GB maximum. The total download size is 19.4 GB. The archive contains webm-files, using the VP9 codec, with a height of 240px. Files are numbered from 1 to 220847.\n",
    "\n",
    "For each video in the training and validation sets there is an object annotation in addition to the video label, if applicable. For example, for a label like \"Putting [something] onto [something],\" there is also an annotated version, such as \"Putting a cup onto a table.\" In total, there are 318,572 annotations involving 30,408 unique objects.\n",
    "\n",
    "\n",
    "[download instructions](./links/20bn-something-something_download_instructions_-_091622.pdf)"
   ]
  },
  {
   "cell_type": "code",
   "execution_count": 3,
   "metadata": {},
   "outputs": [],
   "source": [
    "import os\n",
    "import subprocess\n",
    "\n",
    "os.mkdir(\"./data/\")\n",
    "os.mkdir(\"./data/extracted\")"
   ]
  },
  {
   "cell_type": "code",
   "execution_count": 9,
   "metadata": {},
   "outputs": [],
   "source": [
    "zip_files = [file for file in os.listdir('./') if '.zip' in file]"
   ]
  },
  {
   "cell_type": "code",
   "execution_count": null,
   "metadata": {},
   "outputs": [],
   "source": [
    "for file in zip_files:\n",
    "    subprocess.call(\n",
    "        f'unzip {file} -d ./data/extracted',\n",
    "        shell=True\n",
    "    )"
   ]
  }
 ],
 "metadata": {
  "kernelspec": {
   "display_name": "Python 3",
   "language": "python",
   "name": "python3"
  },
  "language_info": {
   "codemirror_mode": {
    "name": "ipython",
    "version": 3
   },
   "file_extension": ".py",
   "mimetype": "text/x-python",
   "name": "python",
   "nbconvert_exporter": "python",
   "pygments_lexer": "ipython3",
   "version": "3.10.13"
  }
 },
 "nbformat": 4,
 "nbformat_minor": 2
}
