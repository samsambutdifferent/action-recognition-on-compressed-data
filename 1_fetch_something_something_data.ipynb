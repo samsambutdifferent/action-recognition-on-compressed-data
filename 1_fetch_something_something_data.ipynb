{
 "cells": [
  {
   "cell_type": "markdown",
   "metadata": {},
   "source": [
    "# Fetch and Format Something Something Data-set\n",
    "\n",
    "The something something data set is not available publically an account is needded to be created and from [Something Something v2 webpage](https://developer.qualcomm.com/software/ai-datasets/something-something). After which the 20 ziped files can be added to this repository and then the code below can be run"
   ]
  },
  {
   "cell_type": "code",
   "execution_count": null,
   "metadata": {},
   "outputs": [],
   "source": [
    "import os\n",
    "import subprocess\n",
    "import shutil\n",
    "\n",
    "import pandas as pd"
   ]
  },
  {
   "cell_type": "code",
   "execution_count": null,
   "metadata": {},
   "outputs": [],
   "source": [
    "os.mkdir(\"./data/\")\n",
    "os.mkdir(\"./data/extracted\")"
   ]
  },
  {
   "cell_type": "code",
   "execution_count": null,
   "metadata": {},
   "outputs": [],
   "source": [
    "zip_files = [file for file in os.listdir('./') if '.zip' in file]"
   ]
  },
  {
   "cell_type": "code",
   "execution_count": null,
   "metadata": {},
   "outputs": [],
   "source": [
    "for file in zip_files:\n",
    "    subprocess.call(\n",
    "        f'unzip {file} -d ./data/extracted',\n",
    "        shell=True\n",
    "    )"
   ]
  },
  {
   "cell_type": "code",
   "execution_count": null,
   "metadata": {},
   "outputs": [],
   "source": [
    "os.chdir(\"./data/\")\n",
    "print(os.listdir())\n",
    "subprocess.call(\n",
    "    f'cat ./extracted/20bn-something-something-v2-?? | tar zx',\n",
    "    shell=True\n",
    ")\n",
    "print(f\"number of files extracted: {len(os.listdir('20bn-something-something-v2'))}\")\n",
    "os.chdir(\"../\")"
   ]
  },
  {
   "cell_type": "code",
   "execution_count": null,
   "metadata": {},
   "outputs": [],
   "source": [
    "assert len(os.listdir(\"./data/20bn-something-something-v2/\")) == 220847"
   ]
  },
  {
   "cell_type": "markdown",
   "metadata": {},
   "source": [
    "## Extract target file classes"
   ]
  },
  {
   "cell_type": "code",
   "execution_count": null,
   "metadata": {},
   "outputs": [],
   "source": [
    "file_prefix = \"right_left_up_down_1200\"\n",
    "data_folder = \"data_\" + file_prefix\n",
    "data_source = \"dat\"\n",
    "\n",
    "if \"data_\" + file_prefix not in os.listdir():\n",
    "    os.mkdir(data_folder)\n",
    "    os.mkdir(data_folder + \"/train\")\n",
    "    os.mkdir(data_folder + \"/test\")\n",
    "    os.mkdir(data_folder + \"/validation\")\n",
    "    shutil.copy(\"indx_df.csv\", data_folder)\n",
    "\n",
    "indx_df = pd.read_csv(f\"{data_folder}/indx_df.csv\")\n",
    "\n",
    "full_ids = list(indx_df [\"name\"])\n",
    "train_file_ids = list(indx_df[indx_df[\"type\"] == \"train\"][\"name\"])\n",
    "test_file_ids = list(indx_df[indx_df[\"type\"] == \"test\"][\"name\"])\n",
    "validation_file_ids = list(indx_df[indx_df[\"type\"] == \"validation\"][\"name\"])"
   ]
  },
  {
   "cell_type": "code",
   "execution_count": null,
   "metadata": {},
   "outputs": [],
   "source": [
    "assert len(full_ids) == 4800"
   ]
  },
  {
   "cell_type": "markdown",
   "metadata": {},
   "source": [
    "### Convert To Avi Format"
   ]
  },
  {
   "cell_type": "code",
   "execution_count": null,
   "metadata": {},
   "outputs": [],
   "source": [
    "INPUT_FORMAT = 'webm'\n",
    "OUTPUT_FORMAT = 'avi'\n",
    "\n",
    "target_dir = \"./data/\" + OUTPUT_FORMAT + \"/\"\n",
    "cat_dir = \"./data/20bn-something-something-v2\"\n",
    "\n",
    "if OUTPUT_FORMAT not in os.listdir(\"./data/\"):\n",
    "    os.mkdir(target_dir)\n",
    "\n",
    "failed = []\n",
    "for f in os.listdir(cat_dir):\n",
    "    f2 = f.replace(\".\" + INPUT_FORMAT, \".\" + OUTPUT_FORMAT)\n",
    "    if f2 in full_ids:\n",
    "        try: \n",
    "            if not os.path.exists(target_dir + f2):\n",
    "                subprocess.call(\n",
    "                    f'ffmpeg -i {cat_dir}/{f} {target_dir}/{f2}',\n",
    "                    shell=True\n",
    "                )\n",
    "            else:\n",
    "                print(f\"{f2} already exists\")\n",
    "        except:\n",
    "            failed.append(f\"{f}\")\n",
    "    \n",
    "#     print(f\"failed: {str(failed)}\")"
   ]
  },
  {
   "cell_type": "code",
   "execution_count": null,
   "metadata": {},
   "outputs": [],
   "source": [
    "len(os.listdir( \"data/avi\"))"
   ]
  },
  {
   "cell_type": "code",
   "execution_count": null,
   "metadata": {},
   "outputs": [],
   "source": [
    "data_source = \"data/avi\"\n",
    "data_target = \"data/avi\"\n",
    "\n",
    "\n",
    "def relocate_files_to_ttv_folder(data_source, folder_prefix, type, file_ids):\n",
    "    current_files = os.listdir(f\"{folder_prefix}/{type}/\")\n",
    "\n",
    "    for f_id in file_ids:\n",
    "        if f_id not in current_files:\n",
    "            shutil.copy(f\"{data_source}/{f_id}\", f\"{folder_prefix}/{type}/\")\n",
    "\n",
    "\n",
    "relocate_files_to_ttv_folder(data_source, data_folder, \"train\", train_file_ids)\n",
    "relocate_files_to_ttv_folder(data_source, data_folder, \"test\", test_file_ids)\n",
    "relocate_files_to_ttv_folder(data_source, data_folder, \"validation\", validation_file_ids)"
   ]
  },
  {
   "cell_type": "code",
   "execution_count": null,
   "metadata": {},
   "outputs": [],
   "source": [
    "len(os.listdir(\"data_right_left_up_down_1200/train\"))\n",
    "len(os.listdir(\"data_right_left_up_down_1200/test\"))\n",
    "len(os.listdir(\"data_right_left_up_down_1200/validation\"))"
   ]
  },
  {
   "cell_type": "markdown",
   "metadata": {},
   "source": [
    "## Validate files"
   ]
  },
  {
   "cell_type": "code",
   "execution_count": null,
   "metadata": {},
   "outputs": [],
   "source": [
    "from validate_files import validate_files_downloaded\n",
    "\n",
    "validate_files_downloaded(data_folder)"
   ]
  },
  {
   "cell_type": "code",
   "execution_count": null,
   "metadata": {},
   "outputs": [],
   "source": [
    "from validate_files import check_folder_is_working\n",
    "\n",
    "check_folder_is_working(data_folder, \"test\")\n",
    "check_folder_is_working(data_folder, \"validation\")\n",
    "check_folder_is_working(data_folder, \"train\")"
   ]
  },
  {
   "cell_type": "code",
   "execution_count": null,
   "metadata": {},
   "outputs": [],
   "source": []
  }
 ],
 "metadata": {
  "kernelspec": {
   "display_name": "Python 3",
   "language": "python",
   "name": "python3"
  },
  "language_info": {
   "codemirror_mode": {
    "name": "ipython",
    "version": 3
   },
   "file_extension": ".py",
   "mimetype": "text/x-python",
   "name": "python",
   "nbconvert_exporter": "python",
   "pygments_lexer": "ipython3",
   "version": "3.10.12"
  }
 },
 "nbformat": 4,
 "nbformat_minor": 2
}
