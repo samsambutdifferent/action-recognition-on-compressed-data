{
 "cells": [
  {
   "cell_type": "markdown",
   "metadata": {},
   "source": [
    "# Fetch Something Something Data-set\n",
    "\n",
    "[Something Something v2 webpage](https://developer.qualcomm.com/software/ai-datasets/something-something)\n",
    "\n",
    "The video data is provided as one large TGZ archive, split into parts of 1 GB maximum. The total download size is 19.4 GB. The archive contains webm-files, using the VP9 codec, with a height of 240px. Files are numbered from 1 to 220847.\n",
    "\n",
    "For each video in the training and validation sets there is an object annotation in addition to the video label, if applicable. For example, for a label like \"Putting [something] onto [something],\" there is also an annotated version, such as \"Putting a cup onto a table.\" In total, there are 318,572 annotations involving 30,408 unique objects.\n",
    "\n",
    "\n",
    "[download instructions](./links/20bn-something-something_download_instructions_-_091622.pdf)"
   ]
  },
  {
   "cell_type": "code",
   "execution_count": 10,
   "metadata": {},
   "outputs": [],
   "source": [
    "import os\n",
    "import subprocess\n",
    "import shutil\n",
    "\n",
    "import pandas as pd"
   ]
  },
  {
   "cell_type": "code",
   "execution_count": null,
   "metadata": {},
   "outputs": [],
   "source": [
    "os.mkdir(\"./data/\")\n",
    "os.mkdir(\"./data/extracted\")"
   ]
  },
  {
   "cell_type": "code",
   "execution_count": 4,
   "metadata": {},
   "outputs": [],
   "source": [
    "zip_files = [file for file in os.listdir('./') if '.zip' in file]"
   ]
  },
  {
   "cell_type": "code",
   "execution_count": 5,
   "metadata": {},
   "outputs": [
    {
     "name": "stdout",
     "output_type": "stream",
     "text": [
      "Archive:  20bn-something-something-v2-16.zip\n",
      "  inflating: ./data/extracted/20bn-something-something-v2-16  \n",
      "  inflating: ./data/extracted/20bn-something-something-v2-16.md5  \n",
      "Archive:  20bn-something-something-v2-17.zip\n",
      "  inflating: ./data/extracted/20bn-something-something-v2-17  \n",
      "  inflating: ./data/extracted/20bn-something-something-v2-17.md5  \n",
      "Archive:  20bn-something-something-v2-05.zip\n",
      "  inflating: ./data/extracted/20bn-something-something-v2-05  \n",
      "  inflating: ./data/extracted/20bn-something-something-v2-05.md5  \n",
      "Archive:  20bn-something-something-v2-11.zip\n",
      "  inflating: ./data/extracted/20bn-something-something-v2-11  \n",
      "  inflating: ./data/extracted/20bn-something-something-v2-11.md5  \n",
      "Archive:  20bn-something-something-v2-06.zip\n",
      "  inflating: ./data/extracted/20bn-something-something-v2-06  \n",
      "  inflating: ./data/extracted/20bn-something-something-v2-06.md5  \n",
      "Archive:  20bn-something-something-v2-18.zip\n",
      "  inflating: ./data/extracted/20bn-something-something-v2-18  \n",
      "  inflating: ./data/extracted/20bn-something-something-v2-18.md5  \n",
      "Archive:  20bn-something-something-v2-08.zip\n",
      "  inflating: ./data/extracted/20bn-something-something-v2-08  \n",
      "  inflating: ./data/extracted/20bn-something-something-v2-08.md5  \n",
      "Archive:  20bn-something-something-v2-02.zip\n",
      "  inflating: ./data/extracted/20bn-something-something-v2-02  \n",
      "  inflating: ./data/extracted/20bn-something-something-v2-02.md5  \n",
      "Archive:  20bn-something-something-v2-10.zip\n",
      "  inflating: ./data/extracted/20bn-something-something-v2-10  \n",
      "  inflating: ./data/extracted/20bn-something-something-v2-10.md5  \n",
      "Archive:  20bn-something-something-v2-00.zip\n",
      "  inflating: ./data/extracted/20bn-something-something-v2-00  \n",
      "  inflating: ./data/extracted/20bn-something-something-v2-00.md5  \n",
      "Archive:  20bn-something-something-v2-09.zip\n",
      "  inflating: ./data/extracted/20bn-something-something-v2-09  \n",
      "  inflating: ./data/extracted/20bn-something-something-v2-09.md5  \n",
      "Archive:  20bn-something-something-v2-03.zip\n",
      "  inflating: ./data/extracted/20bn-something-something-v2-03  \n",
      "  inflating: ./data/extracted/20bn-something-something-v2-03.md5  \n",
      "Archive:  20bn-something-something-v2-01.zip\n",
      "  inflating: ./data/extracted/20bn-something-something-v2-01  \n",
      "  inflating: ./data/extracted/20bn-something-something-v2-01.md5  \n",
      "Archive:  20bn-something-something-v2-13.zip\n",
      "  inflating: ./data/extracted/20bn-something-something-v2-13  \n",
      "  inflating: ./data/extracted/20bn-something-something-v2-13.md5  \n",
      "Archive:  20bn-something-something-v2-04.zip\n",
      "  inflating: ./data/extracted/20bn-something-something-v2-04  \n",
      "  inflating: ./data/extracted/20bn-something-something-v2-04.md5  \n",
      "Archive:  20bn-something-something-v2-12.zip\n",
      "  inflating: ./data/extracted/20bn-something-something-v2-12  \n",
      "  inflating: ./data/extracted/20bn-something-something-v2-12.md5  \n",
      "Archive:  20bn-something-something-v2-19.zip\n",
      "  inflating: ./data/extracted/20bn-something-something-v2-19  \n",
      "  inflating: ./data/extracted/20bn-something-something-v2-19.md5  \n",
      "Archive:  20bn-something-something-v2-15.zip\n",
      "  inflating: ./data/extracted/20bn-something-something-v2-15  \n",
      "  inflating: ./data/extracted/20bn-something-something-v2-15.md5  \n",
      "Archive:  20bn-something-something-v2-07.zip\n",
      "  inflating: ./data/extracted/20bn-something-something-v2-07  \n",
      "  inflating: ./data/extracted/20bn-something-something-v2-07.md5  \n",
      "Archive:  20bn-something-something-v2-14.zip\n",
      "  inflating: ./data/extracted/20bn-something-something-v2-14  \n",
      "  inflating: ./data/extracted/20bn-something-something-v2-14.md5  \n"
     ]
    }
   ],
   "source": [
    "for file in zip_files:\n",
    "    subprocess.call(\n",
    "        f'unzip {file} -d ./data/extracted',\n",
    "        shell=True\n",
    "    )"
   ]
  },
  {
   "cell_type": "code",
   "execution_count": 4,
   "metadata": {},
   "outputs": [
    {
     "name": "stdout",
     "output_type": "stream",
     "text": [
      "['extracted']\n",
      "number of files extracted: 220847\n"
     ]
    }
   ],
   "source": [
    "os.chdir(\"./data/\")\n",
    "print(os.listdir())\n",
    "subprocess.call(\n",
    "    f'cat ./extracted/20bn-something-something-v2-?? | tar zx',\n",
    "    shell=True\n",
    ")\n",
    "print(f\"number of files extracted: {len(os.listdir('20bn-something-something-v2'))}\")\n",
    "os.chdir(\"../\")"
   ]
  },
  {
   "cell_type": "markdown",
   "metadata": {},
   "source": [
    "## Convert To Avi Format"
   ]
  },
  {
   "cell_type": "code",
   "execution_count": 1,
   "metadata": {},
   "outputs": [
    {
     "name": "stdout",
     "output_type": "stream",
     "text": [
      "['20bn-something-something-v2-16.zip', '20bn-something-something-v2-17.zip', 'run_ffmpeg.py', 'data', '20bn-something-something-v2-05.zip', '20bn-something-something-v2-11.zip', '20bn-something-something-v2-06.zip', '20bn-something-something-v2-18.zip', '20bn-something-something-v2-08.zip', '20bn-something-something-v2-02.zip', '20bn-something-something-v2-10.zip', '20bn-something-something-v2-00.zip', '__pycache__', '20bn-something-something-v2-09.zip', '2_Simple_Spatial_Compression.ipynb', '20bn-something-something-v2-03.zip', 'requirements.txt', '20bn-something-something-v2-01.zip', '.gitignore', 'README.md', '20bn-something-something-v2-13.zip', '20bn-something-something-v2-04.zip', '20bn-something-something-v2-12.zip', 'gcsaccesskey.json', '0_setup.ipynb', '20bn-something-something-v2-19.zip', '20bn-something-something-v2-15.zip', '1.2_fetch_right_left_up_down_from_GCS.ipynb', '1_fetch_something_something_data.ipynb', '3_2d_plus_1', '.git', '20bn-something-something-v2-07.zip', '20bn-something-something-v2-14.zip']\n",
      "Traceback (most recent call last):\n",
      "  File \"/usr/lib/python3.10/runpy.py\", line 196, in _run_module_as_main\n",
      "    return _run_code(code, main_globals, None,\n",
      "  File \"/usr/lib/python3.10/runpy.py\", line 86, in _run_code\n",
      "    exec(code, run_globals)\n",
      "  File \"/home/sam/repos/action-recognition-on-compressed-data/run_ffmpeg.py\", line 15, in <module>\n",
      "    for f in listdir(cat_dir):\n",
      "FileNotFoundError: [Errno 2] No such file or directory: './data/20bn-something-something-v2/'\n"
     ]
    }
   ],
   "source": [
    "!python3 -m run_ffmpeg"
   ]
  },
  {
   "cell_type": "code",
   "execution_count": 8,
   "metadata": {},
   "outputs": [],
   "source": [
    "assert len(os.listdir(\"./data/20bn-something-something-v2/\")) == 220847"
   ]
  },
  {
   "cell_type": "markdown",
   "metadata": {},
   "source": [
    "## Extract target file classes"
   ]
  },
  {
   "cell_type": "code",
   "execution_count": 5,
   "metadata": {},
   "outputs": [],
   "source": [
    "file_prefix = \"right_left_up_down_1200\"\n",
    "data_folder = \"data_\" + file_prefix\n",
    "\n",
    "if \"data_\" + file_prefix not in os.listdir():\n",
    "    os.mkdir(data_folder)\n",
    "    os.mkdir(data_folder + \"/train\")\n",
    "    os.mkdir(data_folder + \"/test\")\n",
    "    os.mkdir(data_folder + \"/validation\")\n",
    "\n",
    "    shutil.move(\"./indx_df\", data_folder + \"./indx_df\",)\n",
    "\n",
    "\n",
    "indx_df = pd.read_csv(f\"{data_folder}/indx_df.csv\")"
   ]
  },
  {
   "cell_type": "code",
   "execution_count": 7,
   "metadata": {},
   "outputs": [
    {
     "data": {
      "text/plain": [
       "220847"
      ]
     },
     "execution_count": 7,
     "metadata": {},
     "output_type": "execute_result"
    }
   ],
   "source": []
  },
  {
   "cell_type": "code",
   "execution_count": null,
   "metadata": {},
   "outputs": [],
   "source": []
  }
 ],
 "metadata": {
  "kernelspec": {
   "display_name": "Python 3",
   "language": "python",
   "name": "python3"
  },
  "language_info": {
   "codemirror_mode": {
    "name": "ipython",
    "version": 3
   },
   "file_extension": ".py",
   "mimetype": "text/x-python",
   "name": "python",
   "nbconvert_exporter": "python",
   "pygments_lexer": "ipython3",
   "version": "3.10.12"
  }
 },
 "nbformat": 4,
 "nbformat_minor": 2
}
