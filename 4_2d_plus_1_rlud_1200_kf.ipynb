{
 "cells": [
  {
   "cell_type": "markdown",
   "metadata": {},
   "source": [
    "# Right Left up down, keyframes"
   ]
  },
  {
   "cell_type": "markdown",
   "metadata": {},
   "source": [
    "## Setup"
   ]
  },
  {
   "cell_type": "code",
   "execution_count": 3,
   "metadata": {
    "execution": {
     "iopub.execute_input": "2023-12-27T10:21:16.817120Z",
     "iopub.status.busy": "2023-12-27T10:21:16.816204Z",
     "iopub.status.idle": "2023-12-27T10:21:21.251072Z",
     "shell.execute_reply": "2023-12-27T10:21:21.249853Z",
     "shell.execute_reply.started": "2023-12-27T10:21:16.817091Z"
    }
   },
   "outputs": [],
   "source": [
    "import os\n",
    "from pathlib import Path\n",
    "import pickle\n",
    "\n",
    "import numpy as np\n",
    "import matplotlib.pyplot as plt\n",
    "import tensorflow as tf\n",
    "import keras\n",
    "import pandas as pd\n",
    "from sklearn.metrics import precision_recall_fscore_support\n",
    "\n",
    "from frame_generator_kf import FrameGenerator\n",
    "from model import create_model, visualise_model"
   ]
  },
  {
   "cell_type": "code",
   "execution_count": 4,
   "metadata": {
    "execution": {
     "iopub.execute_input": "2023-12-27T10:21:21.253727Z",
     "iopub.status.busy": "2023-12-27T10:21:21.253195Z",
     "iopub.status.idle": "2023-12-27T10:21:21.278418Z",
     "shell.execute_reply": "2023-12-27T10:21:21.276700Z",
     "shell.execute_reply.started": "2023-12-27T10:21:21.253699Z"
    }
   },
   "outputs": [
    {
     "name": "stdout",
     "output_type": "stream",
     "text": [
      "classes being compared ['Pushing something from left to right'\n",
      " 'Pushing something from right to left' 'Moving something up'\n",
      " 'Moving something down']\n"
     ]
    }
   ],
   "source": [
    "DATA_PATH = \"data_right_left_up_down_1200\"\n",
    "NOTEBOOK_NAME = \"2_2d_plus_1_rlud_kf\"\n",
    "RESULTS_PATH = DATA_PATH + \"/\" + NOTEBOOK_NAME\n",
    "\n",
    "# PARAMS\n",
    "# number of frames taken from each video\n",
    "n_frames = 10\n",
    "#  ????\n",
    "batch_size = 8\n",
    "# Define the dimensions of one frame in the set of frames created\n",
    "HEIGHT = 224\n",
    "WIDTH = 224\n",
    "\n",
    "assert(os.path.isdir(DATA_PATH ))\n",
    "\n",
    "if not os.path.isdir(RESULTS_PATH):\n",
    "    os.mkdir(RESULTS_PATH)\n",
    "\n",
    "index_df = pd.read_csv(f'{DATA_PATH}/indx_df.csv')\n",
    "\n",
    "print(f\"classes being compared {index_df['category'].unique()}\")"
   ]
  },
  {
   "cell_type": "markdown",
   "metadata": {},
   "source": [
    "## Preprocess video data\n",
    "\n",
    "Load something something data tf.data.Dataset"
   ]
  },
  {
   "cell_type": "code",
   "execution_count": 5,
   "metadata": {
    "execution": {
     "iopub.execute_input": "2023-12-27T10:21:21.280394Z",
     "iopub.status.busy": "2023-12-27T10:21:21.279911Z",
     "iopub.status.idle": "2023-12-27T10:21:23.209056Z",
     "shell.execute_reply": "2023-12-27T10:21:23.206601Z",
     "shell.execute_reply.started": "2023-12-27T10:21:21.280310Z"
    }
   },
   "outputs": [
    {
     "name": "stdout",
     "output_type": "stream",
     "text": [
      "<class 'tensorflow.python.data.ops.dataset_ops.FlatMapDataset'>\n",
      "<class 'tensorflow.python.data.ops.dataset_ops.BatchDataset'>\n"
     ]
    }
   ],
   "source": [
    "subset_paths = {\n",
    "    \"test\": Path(f'{DATA_PATH}/test'),\n",
    "    \"train\": Path(f'{DATA_PATH}/train'),\n",
    "    \"val\": Path(f'{DATA_PATH}/validation'),\n",
    "}\n",
    "\n",
    "output_signature = (\n",
    "    tf.TensorSpec(shape = (None, None, None, 3), dtype = tf.float32),\n",
    "    tf.TensorSpec(shape = (), dtype = tf.int16)\n",
    ")\n",
    "\n",
    "train_ds = tf.data.Dataset.from_generator(\n",
    "    FrameGenerator(subset_paths['train'],\n",
    "        n_frames=n_frames,\n",
    "        index_df=index_df,\n",
    "        training=True\n",
    "    ),\n",
    "    output_signature = output_signature\n",
    ")\n",
    "# Batch the data\n",
    "train_ds = train_ds.batch(batch_size)\n",
    "\n",
    "val_ds = tf.data.Dataset.from_generator(\n",
    "    FrameGenerator(\n",
    "        subset_paths['val'],\n",
    "        n_frames=n_frames,\n",
    "        index_df=index_df,\n",
    "        training=False\n",
    "    ),\n",
    "    output_signature = output_signature\n",
    ")\n",
    "# Batch the data\n",
    "val_ds = val_ds.batch(batch_size)\n",
    "\n",
    "test_ds = tf.data.Dataset.from_generator(\n",
    "    FrameGenerator(\n",
    "        subset_paths['test'],\n",
    "        n_frames=n_frames,\n",
    "        index_df=index_df,\n",
    "        training=False\n",
    "    ),\n",
    "    output_signature = output_signature\n",
    ")\n",
    "\n",
    "print(type(test_ds))\n",
    "\n",
    "# Batch the data\n",
    "test_ds = test_ds.batch(batch_size)\n",
    "\n",
    "print(type(test_ds))\n"
   ]
  },
  {
   "cell_type": "markdown",
   "metadata": {},
   "source": [
    "## Model Creation"
   ]
  },
  {
   "cell_type": "code",
   "execution_count": 6,
   "metadata": {
    "execution": {
     "iopub.execute_input": "2023-12-27T10:21:23.213060Z",
     "iopub.status.busy": "2023-12-27T10:21:23.212445Z",
     "iopub.status.idle": "2023-12-27T10:21:26.311843Z",
     "shell.execute_reply": "2023-12-27T10:21:26.310242Z",
     "shell.execute_reply.started": "2023-12-27T10:21:23.212567Z"
    }
   },
   "outputs": [],
   "source": [
    "model = create_model(n_frames=n_frames, height=HEIGHT, width=WIDTH)"
   ]
  },
  {
   "cell_type": "markdown",
   "metadata": {},
   "source": [
    "## Validate Model and Data"
   ]
  },
  {
   "cell_type": "code",
   "execution_count": 7,
   "metadata": {
    "execution": {
     "iopub.execute_input": "2023-12-27T10:21:26.313181Z",
     "iopub.status.busy": "2023-12-27T10:21:26.313030Z",
     "iopub.status.idle": "2023-12-27T10:21:26.346134Z",
     "shell.execute_reply": "2023-12-27T10:21:26.345054Z",
     "shell.execute_reply.started": "2023-12-27T10:21:26.313156Z"
    }
   },
   "outputs": [
    {
     "data": {
      "text/plain": [
       "<tensorflow.python.data.ops.iterator_ops.OwnedIterator at 0x7f9c9015e310>"
      ]
     },
     "execution_count": 7,
     "metadata": {},
     "output_type": "execute_result"
    }
   ],
   "source": [
    "# testing tensor is setup correct\n",
    "iter(train_ds)"
   ]
  },
  {
   "cell_type": "markdown",
   "metadata": {},
   "source": [
    "## Build Model"
   ]
  },
  {
   "cell_type": "code",
   "execution_count": 8,
   "metadata": {
    "execution": {
     "iopub.execute_input": "2023-12-27T10:21:26.348394Z",
     "iopub.status.busy": "2023-12-27T10:21:26.347841Z",
     "iopub.status.idle": "2023-12-27T10:21:30.871976Z",
     "shell.execute_reply": "2023-12-27T10:21:30.870335Z",
     "shell.execute_reply.started": "2023-12-27T10:21:26.348394Z"
    }
   },
   "outputs": [],
   "source": [
    "frames, label = next(iter(train_ds))"
   ]
  },
  {
   "cell_type": "code",
   "execution_count": 9,
   "metadata": {
    "execution": {
     "iopub.execute_input": "2023-12-27T10:21:30.874813Z",
     "iopub.status.busy": "2023-12-27T10:21:30.874466Z",
     "iopub.status.idle": "2023-12-27T10:21:30.879834Z",
     "shell.execute_reply": "2023-12-27T10:21:30.878546Z",
     "shell.execute_reply.started": "2023-12-27T10:21:30.874813Z"
    }
   },
   "outputs": [],
   "source": [
    "model.build(frames)"
   ]
  },
  {
   "cell_type": "markdown",
   "metadata": {},
   "source": [
    "## Visualise Model"
   ]
  },
  {
   "cell_type": "code",
   "execution_count": 10,
   "metadata": {
    "execution": {
     "iopub.execute_input": "2023-12-27T10:21:30.881764Z",
     "iopub.status.busy": "2023-12-27T10:21:30.881451Z",
     "iopub.status.idle": "2023-12-27T10:21:30.966750Z",
     "shell.execute_reply": "2023-12-27T10:21:30.964009Z",
     "shell.execute_reply.started": "2023-12-27T10:21:30.881734Z"
    }
   },
   "outputs": [
    {
     "name": "stdout",
     "output_type": "stream",
     "text": [
      "Model: \"model\"\n",
      "__________________________________________________________________________________________________\n",
      " Layer (type)                   Output Shape         Param #     Connected to                     \n",
      "==================================================================================================\n",
      " input_1 (InputLayer)           [(None, 10, 224, 22  0           []                               \n",
      "                                4, 3)]                                                            \n",
      "                                                                                                  \n",
      " conv2_plus1d (Conv2Plus1D)     (None, 10, 224, 224  3152        ['input_1[0][0]']                \n",
      "                                , 16)                                                             \n",
      "                                                                                                  \n",
      " batch_normalization (BatchNorm  (None, 10, 224, 224  64         ['conv2_plus1d[0][0]']           \n",
      " alization)                     , 16)                                                             \n",
      "                                                                                                  \n",
      " re_lu (ReLU)                   (None, 10, 224, 224  0           ['batch_normalization[0][0]']    \n",
      "                                , 16)                                                             \n",
      "                                                                                                  \n",
      " resize_video (ResizeVideo)     (None, 10, 112, 112  0           ['re_lu[0][0]']                  \n",
      "                                , 16)                                                             \n",
      "                                                                                                  \n",
      " residual_main (ResidualMain)   (None, 10, 112, 112  6272        ['resize_video[0][0]']           \n",
      "                                , 16)                                                             \n",
      "                                                                                                  \n",
      " add (Add)                      (None, 10, 112, 112  0           ['resize_video[0][0]',           \n",
      "                                , 16)                             'residual_main[0][0]']          \n",
      "                                                                                                  \n",
      " resize_video_1 (ResizeVideo)   (None, 10, 56, 56,   0           ['add[0][0]']                    \n",
      "                                16)                                                               \n",
      "                                                                                                  \n",
      " project (Project)              (None, 10, 56, 56,   608         ['resize_video_1[0][0]']         \n",
      "                                32)                                                               \n",
      "                                                                                                  \n",
      " residual_main_1 (ResidualMain)  (None, 10, 56, 56,   20224      ['resize_video_1[0][0]']         \n",
      "                                32)                                                               \n",
      "                                                                                                  \n",
      " add_1 (Add)                    (None, 10, 56, 56,   0           ['project[0][0]',                \n",
      "                                32)                               'residual_main_1[0][0]']        \n",
      "                                                                                                  \n",
      " resize_video_2 (ResizeVideo)   (None, 10, 28, 28,   0           ['add_1[0][0]']                  \n",
      "                                32)                                                               \n",
      "                                                                                                  \n",
      " project_1 (Project)            (None, 10, 28, 28,   2240        ['resize_video_2[0][0]']         \n",
      "                                64)                                                               \n",
      "                                                                                                  \n",
      " residual_main_2 (ResidualMain)  (None, 10, 28, 28,   80384      ['resize_video_2[0][0]']         \n",
      "                                64)                                                               \n",
      "                                                                                                  \n",
      " add_2 (Add)                    (None, 10, 28, 28,   0           ['project_1[0][0]',              \n",
      "                                64)                               'residual_main_2[0][0]']        \n",
      "                                                                                                  \n",
      " resize_video_3 (ResizeVideo)   (None, 10, 14, 14,   0           ['add_2[0][0]']                  \n",
      "                                64)                                                               \n",
      "                                                                                                  \n",
      " project_2 (Project)            (None, 10, 14, 14,   8576        ['resize_video_3[0][0]']         \n",
      "                                128)                                                              \n",
      "                                                                                                  \n",
      " residual_main_3 (ResidualMain)  (None, 10, 14, 14,   320512     ['resize_video_3[0][0]']         \n",
      "                                128)                                                              \n",
      "                                                                                                  \n",
      " add_3 (Add)                    (None, 10, 14, 14,   0           ['project_2[0][0]',              \n",
      "                                128)                              'residual_main_3[0][0]']        \n",
      "                                                                                                  \n",
      " global_average_pooling3d (Glob  (None, 128)         0           ['add_3[0][0]']                  \n",
      " alAveragePooling3D)                                                                              \n",
      "                                                                                                  \n",
      " flatten (Flatten)              (None, 128)          0           ['global_average_pooling3d[0][0]'\n",
      "                                                                 ]                                \n",
      "                                                                                                  \n",
      " dense_3 (Dense)                (None, 4)            516         ['flatten[0][0]']                \n",
      "                                                                                                  \n",
      "==================================================================================================\n",
      "Total params: 442,548\n",
      "Trainable params: 442,516\n",
      "Non-trainable params: 32\n",
      "__________________________________________________________________________________________________\n"
     ]
    }
   ],
   "source": [
    "model.summary()"
   ]
  },
  {
   "cell_type": "code",
   "execution_count": 11,
   "metadata": {
    "execution": {
     "iopub.execute_input": "2023-12-27T10:21:30.970175Z",
     "iopub.status.busy": "2023-12-27T10:21:30.969702Z",
     "iopub.status.idle": "2023-12-27T10:21:31.082839Z",
     "shell.execute_reply": "2023-12-27T10:21:31.081090Z",
     "shell.execute_reply.started": "2023-12-27T10:21:30.970175Z"
    }
   },
   "outputs": [
    {
     "name": "stdout",
     "output_type": "stream",
     "text": [
      "You must install pydot (`pip install pydot`) and install graphviz (see instructions at https://graphviz.gitlab.io/download/) for plot_model/model_to_dot to work.\n"
     ]
    }
   ],
   "source": [
    "visualise_model(\n",
    "    model=model,\n",
    "    file_path=DATA_PATH + \"/model_summary.dot\"\n",
    ")"
   ]
  },
  {
   "cell_type": "markdown",
   "metadata": {},
   "source": [
    "## Load the Model\n",
    "\n",
    "Using BinaryCrossentropy as it is more effective for binary data\n",
    "\n",
    "from_logits is false because final layer includes a sigmoid activation,"
   ]
  },
  {
   "cell_type": "code",
   "execution_count": 12,
   "metadata": {
    "execution": {
     "iopub.execute_input": "2023-12-27T10:21:34.349262Z",
     "iopub.status.busy": "2023-12-27T10:21:34.347535Z",
     "iopub.status.idle": "2023-12-27T10:21:34.355284Z",
     "shell.execute_reply": "2023-12-27T10:21:34.353972Z",
     "shell.execute_reply.started": "2023-12-27T10:21:34.349212Z"
    }
   },
   "outputs": [],
   "source": [
    "previous_runs = 2"
   ]
  },
  {
   "cell_type": "code",
   "execution_count": 13,
   "metadata": {
    "execution": {
     "iopub.execute_input": "2023-12-27T10:21:35.601413Z",
     "iopub.status.busy": "2023-12-27T10:21:35.601021Z",
     "iopub.status.idle": "2023-12-27T10:21:35.628331Z",
     "shell.execute_reply": "2023-12-27T10:21:35.626826Z",
     "shell.execute_reply.started": "2023-12-27T10:21:35.601387Z"
    }
   },
   "outputs": [],
   "source": [
    "previous_runs += 1\n",
    "\n",
    "model.compile(loss = keras.losses.SparseCategoricalCrossentropy(from_logits=True),\n",
    "              optimizer = keras.optimizers.Adam(learning_rate = 0.0001),\n",
    "              metrics=[\n",
    "                    'accuracy',\n",
    "                    # tf.keras.metrics.Precision(),\n",
    "                    # tf.keras.metrics.Recall()\n",
    "                    # tf.keras.metrics.Precision(class_id=0, name='precision_neg'),\n",
    "                    # tf.keras.metrics.Precision(class_id=1, name='precision_pos'),\n",
    "                    # tf.keras.metrics.Recall(class_id=0, name='recall_neg'),\n",
    "                    # tf.keras.metrics.Recall(class_id=1, name='recall_pos')\n",
    "                ]\n",
    "            )\n",
    "\n",
    "checkpoint_callback = tf.keras.callbacks.ModelCheckpoint(\n",
    "    RESULTS_PATH + '/model-runs-' + str(previous_runs) + '-cp-{epoch:02d}-{val_loss:.2f}.ckpt',\n",
    "    save_best_only=True,  # Save only the best model based on a monitored metric (e.g., val_loss), will only replace saved value if it is better\n",
    "    monitor='val_loss',\n",
    "    mode='min',  # 'min' for loss, 'max' for accuracy\n",
    "    save_weights_only=True\n",
    ")\n",
    "\n",
    "\n",
    "early_stopping = tf.keras.callbacks.EarlyStopping(\n",
    "    monitor='val_loss',\n",
    "    patience=10,  # Number of epochs with no improvement after which training will be stopped\n",
    "    restore_best_weights=True\n",
    ")"
   ]
  },
  {
   "cell_type": "code",
   "execution_count": 14,
   "metadata": {
    "execution": {
     "iopub.execute_input": "2023-12-27T10:21:36.202028Z",
     "iopub.status.busy": "2023-12-27T10:21:36.201631Z",
     "iopub.status.idle": "2023-12-27T10:21:36.602990Z",
     "shell.execute_reply": "2023-12-27T10:21:36.601806Z",
     "shell.execute_reply.started": "2023-12-27T10:21:36.202001Z"
    }
   },
   "outputs": [
    {
     "name": "stdout",
     "output_type": "stream",
     "text": [
      "loading model from weights: data_right_left_up_down_1200/2_2d_plus_1_rlud_kf/model-runs-3-cp-07-0.48.ckpt\n"
     ]
    }
   ],
   "source": [
    "latest = tf.train.latest_checkpoint(RESULTS_PATH)\n",
    "\n",
    "if latest is not None:\n",
    "    print(f\"loading model from weights: {latest}\")\n",
    "    model.load_weights(latest)"
   ]
  },
  {
   "cell_type": "markdown",
   "metadata": {},
   "source": [
    "## Train the Model"
   ]
  },
  {
   "cell_type": "code",
   "execution_count": 15,
   "metadata": {
    "execution": {
     "iopub.execute_input": "2023-12-27T02:01:25.757753Z",
     "iopub.status.busy": "2023-12-27T02:01:25.756874Z",
     "iopub.status.idle": "2023-12-27T03:45:49.807821Z",
     "shell.execute_reply": "2023-12-27T03:45:49.806983Z",
     "shell.execute_reply.started": "2023-12-27T02:01:25.757709Z"
    }
   },
   "outputs": [
    {
     "name": "stdout",
     "output_type": "stream",
     "text": [
      "Epoch 1/13\n",
      "480/480 [==============================] - 508s 1s/step - loss: 0.3123 - accuracy: 0.8898 - val_loss: 0.4927 - val_accuracy: 0.8271\n",
      "Epoch 2/13\n",
      "480/480 [==============================] - 478s 990ms/step - loss: 0.2837 - accuracy: 0.9076 - val_loss: 0.5644 - val_accuracy: 0.7833\n",
      "Epoch 3/13\n",
      "480/480 [==============================] - 478s 988ms/step - loss: 0.2735 - accuracy: 0.9102 - val_loss: 0.5076 - val_accuracy: 0.8271\n",
      "Epoch 4/13\n",
      "480/480 [==============================] - 478s 989ms/step - loss: 0.2483 - accuracy: 0.9164 - val_loss: 0.5890 - val_accuracy: 0.7958\n",
      "Epoch 5/13\n",
      "480/480 [==============================] - 480s 994ms/step - loss: 0.2600 - accuracy: 0.9089 - val_loss: 0.5667 - val_accuracy: 0.7979\n",
      "Epoch 6/13\n",
      "480/480 [==============================] - 475s 983ms/step - loss: 0.2536 - accuracy: 0.9089 - val_loss: 0.5257 - val_accuracy: 0.7979\n",
      "Epoch 7/13\n",
      "480/480 [==============================] - 478s 989ms/step - loss: 0.2296 - accuracy: 0.9255 - val_loss: 0.4848 - val_accuracy: 0.8188\n",
      "Epoch 8/13\n",
      "480/480 [==============================] - 477s 988ms/step - loss: 0.2051 - accuracy: 0.9315 - val_loss: 0.5800 - val_accuracy: 0.7958\n",
      "Epoch 9/13\n",
      "480/480 [==============================] - 476s 986ms/step - loss: 0.2407 - accuracy: 0.9161 - val_loss: 0.4923 - val_accuracy: 0.8333\n",
      "Epoch 10/13\n",
      "480/480 [==============================] - 478s 988ms/step - loss: 0.1929 - accuracy: 0.9354 - val_loss: 0.4878 - val_accuracy: 0.8188\n",
      "Epoch 11/13\n",
      "480/480 [==============================] - 477s 988ms/step - loss: 0.1850 - accuracy: 0.9385 - val_loss: 0.5650 - val_accuracy: 0.8104\n",
      "Epoch 12/13\n",
      "480/480 [==============================] - 477s 987ms/step - loss: 0.1903 - accuracy: 0.9391 - val_loss: 0.5409 - val_accuracy: 0.7875\n",
      "Epoch 13/13\n",
      "480/480 [==============================] - 479s 992ms/step - loss: 0.1590 - accuracy: 0.9482 - val_loss: 0.5221 - val_accuracy: 0.8271\n"
     ]
    }
   ],
   "source": [
    "previously_run_epochs = 0 + 32 + 5\n",
    "\n",
    "history = model.fit(\n",
    "        x=train_ds,\n",
    "        epochs = 50 - previously_run_epochs,\n",
    "        validation_data=val_ds,\n",
    "        callbacks=[checkpoint_callback, early_stopping],\n",
    "    )"
   ]
  },
  {
   "cell_type": "markdown",
   "metadata": {},
   "source": [
    "## Analyse results"
   ]
  },
  {
   "cell_type": "code",
   "execution_count": 15,
   "metadata": {
    "execution": {
     "iopub.execute_input": "2023-12-27T10:21:56.232941Z",
     "iopub.status.busy": "2023-12-27T10:21:56.232574Z",
     "iopub.status.idle": "2023-12-27T10:22:52.409716Z",
     "shell.execute_reply": "2023-12-27T10:22:52.408927Z",
     "shell.execute_reply.started": "2023-12-27T10:21:56.232914Z"
    }
   },
   "outputs": [
    {
     "name": "stdout",
     "output_type": "stream",
     "text": [
      "1/1 [==============================] - 6s 6s/step\n",
      "1/1 [==============================] - 0s 266ms/step\n",
      "1/1 [==============================] - 0s 268ms/step\n",
      "1/1 [==============================] - 0s 264ms/step\n",
      "1/1 [==============================] - 0s 259ms/step\n",
      "1/1 [==============================] - 0s 257ms/step\n",
      "1/1 [==============================] - 0s 263ms/step\n",
      "1/1 [==============================] - 0s 264ms/step\n",
      "1/1 [==============================] - 0s 272ms/step\n",
      "1/1 [==============================] - 0s 278ms/step\n",
      "1/1 [==============================] - 0s 270ms/step\n",
      "1/1 [==============================] - 0s 267ms/step\n",
      "1/1 [==============================] - 0s 268ms/step\n",
      "1/1 [==============================] - 0s 267ms/step\n",
      "1/1 [==============================] - 0s 262ms/step\n",
      "1/1 [==============================] - 0s 273ms/step\n",
      "1/1 [==============================] - 0s 270ms/step\n",
      "1/1 [==============================] - 0s 272ms/step\n",
      "1/1 [==============================] - 0s 261ms/step\n",
      "1/1 [==============================] - 0s 258ms/step\n",
      "1/1 [==============================] - 0s 259ms/step\n",
      "1/1 [==============================] - 0s 262ms/step\n",
      "1/1 [==============================] - 0s 262ms/step\n",
      "1/1 [==============================] - 0s 275ms/step\n",
      "1/1 [==============================] - 0s 268ms/step\n",
      "1/1 [==============================] - 0s 272ms/step\n",
      "1/1 [==============================] - 0s 264ms/step\n",
      "1/1 [==============================] - 0s 266ms/step\n",
      "1/1 [==============================] - 0s 266ms/step\n",
      "1/1 [==============================] - 0s 261ms/step\n",
      "1/1 [==============================] - 0s 276ms/step\n",
      "1/1 [==============================] - 0s 265ms/step\n",
      "1/1 [==============================] - 0s 272ms/step\n",
      "1/1 [==============================] - 0s 264ms/step\n",
      "1/1 [==============================] - 0s 269ms/step\n",
      "1/1 [==============================] - 0s 262ms/step\n",
      "1/1 [==============================] - 0s 272ms/step\n",
      "1/1 [==============================] - 0s 270ms/step\n",
      "1/1 [==============================] - 0s 263ms/step\n",
      "1/1 [==============================] - 0s 269ms/step\n",
      "1/1 [==============================] - 0s 267ms/step\n",
      "1/1 [==============================] - 0s 270ms/step\n",
      "1/1 [==============================] - 0s 262ms/step\n",
      "1/1 [==============================] - 0s 272ms/step\n",
      "1/1 [==============================] - 0s 266ms/step\n",
      "1/1 [==============================] - 0s 267ms/step\n",
      "1/1 [==============================] - 0s 273ms/step\n",
      "1/1 [==============================] - 0s 270ms/step\n",
      "1/1 [==============================] - 0s 264ms/step\n",
      "1/1 [==============================] - 0s 268ms/step\n",
      "1/1 [==============================] - 0s 273ms/step\n",
      "1/1 [==============================] - 0s 271ms/step\n",
      "1/1 [==============================] - 0s 262ms/step\n",
      "1/1 [==============================] - 0s 264ms/step\n",
      "1/1 [==============================] - 0s 261ms/step\n",
      "1/1 [==============================] - 0s 260ms/step\n",
      "1/1 [==============================] - 0s 267ms/step\n",
      "1/1 [==============================] - 0s 257ms/step\n",
      "1/1 [==============================] - 0s 264ms/step\n",
      "1/1 [==============================] - 0s 258ms/step\n"
     ]
    }
   ],
   "source": [
    "import numpy as np\n",
    "from scipy.special import softmax\n",
    "from sklearn.metrics import precision_recall_fscore_support, accuracy_score\n",
    "\n",
    "true_labels = []\n",
    "predictions = []\n",
    "\n",
    "# Iterate over the batched test dataset\n",
    "for batch in test_ds:\n",
    "    x, y = batch  # x is the batch of features, y is the batch of labels\n",
    "    true_labels.extend(y.numpy())  # Store true labels\n",
    "    preds = model.predict(x)  # Generate predictions for the batch\n",
    "    preds = softmax(preds, axis=1)  # Apply softmax to convert logits to probabilities\n",
    "    preds = np.argmax(preds, axis=1)  # Get the class with the highest probability\n",
    "    predictions.extend(preds)\n",
    "\n",
    "# Convert lists to numpy arrays\n",
    "true_labels = np.array(true_labels)\n",
    "predictions = np.array(predictions)"
   ]
  },
  {
   "cell_type": "code",
   "execution_count": 17,
   "metadata": {
    "execution": {
     "iopub.execute_input": "2023-12-27T10:29:10.421545Z",
     "iopub.status.busy": "2023-12-27T10:29:10.421021Z",
     "iopub.status.idle": "2023-12-27T10:29:10.431998Z",
     "shell.execute_reply": "2023-12-27T10:29:10.431010Z",
     "shell.execute_reply.started": "2023-12-27T10:29:10.421517Z"
    }
   },
   "outputs": [
    {
     "name": "stdout",
     "output_type": "stream",
     "text": [
      "Overall Accuracy: 0.8020833333333334\n",
      "Class Pushing something from left to right: Precision: 0.8074074074074075, Recall: 0.9083333333333333, F1 Score: 0.8549019607843137\n",
      "Class Pushing something from right to left: Precision: 0.9279279279279279, Recall: 0.8583333333333333, F1 Score: 0.8917748917748917\n",
      "Class Moving something up: Precision: 0.8404255319148937, Recall: 0.6583333333333333, F1 Score: 0.7383177570093459\n",
      "Class Moving something down: Precision: 0.6714285714285714, Recall: 0.7833333333333333, F1 Score: 0.7230769230769231\n"
     ]
    }
   ],
   "source": [
    "fg = FrameGenerator(\n",
    "    subset_paths['test'],\n",
    "    n_frames=n_frames,\n",
    "    index_df=index_df,\n",
    "    training=False\n",
    ")\n",
    "class_id_value = {\n",
    "    fg.class_ids_for_name[x]: x for x in fg.class_ids_for_name.keys()\n",
    " }\n",
    "\n",
    "# Convert lists to numpy arrays if they aren't already\n",
    "true_labels = np.array(true_labels)\n",
    "predictions = np.array(predictions)\n",
    "\n",
    "# Calculate accuracy\n",
    "accuracy = accuracy_score(true_labels, predictions)\n",
    "\n",
    "# Calculate precision, recall, and F1-score for each class\n",
    "precision, recall, f1_score, _ = precision_recall_fscore_support(true_labels, predictions, average=None)\n",
    "\n",
    "# Print accuracy and F1-scores for each class\n",
    "print(f\"Overall Accuracy: {accuracy}\")\n",
    "for i, (prec, rec, f1) in enumerate(zip(precision, recall, f1_score)):\n",
    "    print(f\"Class {class_id_value[i]}: Precision: {prec}, Recall: {rec}, F1 Score: {f1}\")"
   ]
  },
  {
   "cell_type": "code",
   "execution_count": null,
   "metadata": {},
   "outputs": [],
   "source": []
  }
 ],
 "metadata": {
  "kernelspec": {
   "display_name": "Python 3 (ipykernel)",
   "language": "python",
   "name": "python3"
  },
  "language_info": {
   "codemirror_mode": {
    "name": "ipython",
    "version": 3
   },
   "file_extension": ".py",
   "mimetype": "text/x-python",
   "name": "python",
   "nbconvert_exporter": "python",
   "pygments_lexer": "ipython3",
   "version": "3.9.16"
  }
 },
 "nbformat": 4,
 "nbformat_minor": 4
}
