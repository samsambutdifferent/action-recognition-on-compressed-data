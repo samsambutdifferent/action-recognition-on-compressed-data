{
 "cells": [
  {
   "cell_type": "markdown",
   "metadata": {},
   "source": [
    "# Right Left up down 1200"
   ]
  },
  {
   "cell_type": "markdown",
   "metadata": {},
   "source": [
    "## Setup"
   ]
  },
  {
   "cell_type": "code",
   "execution_count": null,
   "metadata": {
    "execution": {
     "iopub.execute_input": "2024-01-08T10:34:12.920709Z",
     "iopub.status.busy": "2024-01-08T10:34:12.919942Z",
     "iopub.status.idle": "2024-01-08T10:34:46.195139Z",
     "shell.execute_reply": "2024-01-08T10:34:46.194038Z",
     "shell.execute_reply.started": "2024-01-08T10:34:12.920681Z"
    }
   },
   "outputs": [],
   "source": [
    "import os\n",
    "from pathlib import Path\n",
    "\n",
    "import tensorflow as tf\n",
    "import keras\n",
    "import pandas as pd\n",
    "\n",
    "from frame_generator import FrameGenerator\n",
    "from model import create_model"
   ]
  },
  {
   "cell_type": "code",
   "execution_count": null,
   "metadata": {
    "execution": {
     "iopub.execute_input": "2024-01-08T10:34:46.197582Z",
     "iopub.status.busy": "2024-01-08T10:34:46.197039Z",
     "iopub.status.idle": "2024-01-08T10:34:46.228592Z",
     "shell.execute_reply": "2024-01-08T10:34:46.227666Z",
     "shell.execute_reply.started": "2024-01-08T10:34:46.197555Z"
    }
   },
   "outputs": [],
   "source": [
    "DATA_PATH = \"data_7_right_left_up_down_1200\"\n",
    "NOTEBOOK_NAME = \"3_2d_plus_1_rlud_1200_sp7\"\n",
    "RESULTS_PATH = DATA_PATH + \"/\" + NOTEBOOK_NAME\n",
    "\n",
    "# PARAMS\n",
    "n_frames = 36\n",
    "frame_step = 1\n",
    "batch_size = 8\n",
    "HEIGHT = 224\n",
    "WIDTH = 224\n",
    "\n",
    "assert(os.path.isdir(DATA_PATH ))\n",
    "\n",
    "if not os.path.isdir(RESULTS_PATH):\n",
    "    os.mkdir(RESULTS_PATH)\n",
    "\n",
    "index_df = pd.read_csv(f'{DATA_PATH}/indx_df.csv')\n",
    "\n",
    "print(f\"classes being compared {index_df['category'].unique()}\")"
   ]
  },
  {
   "cell_type": "markdown",
   "metadata": {},
   "source": [
    "## Preprocess video data"
   ]
  },
  {
   "cell_type": "code",
   "execution_count": null,
   "metadata": {
    "execution": {
     "iopub.execute_input": "2024-01-08T10:36:13.984427Z",
     "iopub.status.busy": "2024-01-08T10:36:13.983987Z",
     "iopub.status.idle": "2024-01-08T10:36:15.630742Z",
     "shell.execute_reply": "2024-01-08T10:36:15.629791Z",
     "shell.execute_reply.started": "2024-01-08T10:36:13.984388Z"
    }
   },
   "outputs": [],
   "source": [
    "subset_paths = {\n",
    "    \"test\": Path(f'{DATA_PATH}/test'),\n",
    "    \"train\": Path(f'{DATA_PATH}/train'),\n",
    "    \"val\": Path(f'{DATA_PATH}/validation'),\n",
    "}\n",
    "\n",
    "output_signature = (\n",
    "    tf.TensorSpec(shape = (None, None, None, 3), dtype = tf.float32),\n",
    "    tf.TensorSpec(shape = (), dtype = tf.int16)\n",
    ")\n",
    "\n",
    "train_ds = tf.data.Dataset.from_generator(\n",
    "    FrameGenerator(subset_paths['train'],\n",
    "        n_frames=n_frames,\n",
    "        index_df=index_df,\n",
    "        height=HEIGHT,\n",
    "        width=WIDTH,\n",
    "        frame_step=frame_step,\n",
    "        training=True\n",
    "    ),\n",
    "    output_signature = output_signature\n",
    ")\n",
    "train_ds = train_ds.batch(batch_size)\n",
    "\n",
    "val_ds = tf.data.Dataset.from_generator(\n",
    "    FrameGenerator(\n",
    "        subset_paths['val'],\n",
    "        n_frames=n_frames,\n",
    "        height=HEIGHT,\n",
    "        width=WIDTH,\n",
    "        index_df=index_df,\n",
    "        frame_step=frame_step,\n",
    "        training=False\n",
    "    ),\n",
    "    output_signature = output_signature\n",
    ")\n",
    "val_ds = val_ds.batch(batch_size)\n",
    "\n",
    "test_ds = tf.data.Dataset.from_generator(\n",
    "    FrameGenerator(\n",
    "        subset_paths['test'],\n",
    "        n_frames=n_frames,\n",
    "        height=HEIGHT,\n",
    "        width=WIDTH,\n",
    "        index_df=index_df,\n",
    "        frame_step=frame_step,\n",
    "        training=False\n",
    "    ),\n",
    "    output_signature = output_signature\n",
    ")\n",
    "\n",
    "test_ds = test_ds.batch(batch_size)"
   ]
  },
  {
   "cell_type": "markdown",
   "metadata": {},
   "source": [
    "## Model Creation"
   ]
  },
  {
   "cell_type": "code",
   "execution_count": null,
   "metadata": {
    "execution": {
     "iopub.execute_input": "2024-01-08T10:36:15.632923Z",
     "iopub.status.busy": "2024-01-08T10:36:15.632083Z",
     "iopub.status.idle": "2024-01-08T10:36:18.284026Z",
     "shell.execute_reply": "2024-01-08T10:36:18.282942Z",
     "shell.execute_reply.started": "2024-01-08T10:36:15.632895Z"
    }
   },
   "outputs": [],
   "source": [
    "model = create_model(n_frames=n_frames, height=HEIGHT, width=WIDTH)"
   ]
  },
  {
   "cell_type": "markdown",
   "metadata": {},
   "source": [
    "## Build Model"
   ]
  },
  {
   "cell_type": "code",
   "execution_count": null,
   "metadata": {
    "execution": {
     "iopub.execute_input": "2024-01-08T10:36:18.286121Z",
     "iopub.status.busy": "2024-01-08T10:36:18.285875Z",
     "iopub.status.idle": "2024-01-08T10:36:23.714935Z",
     "shell.execute_reply": "2024-01-08T10:36:23.714046Z",
     "shell.execute_reply.started": "2024-01-08T10:36:18.286095Z"
    }
   },
   "outputs": [],
   "source": [
    "frames, label = next(iter(train_ds))"
   ]
  },
  {
   "cell_type": "code",
   "execution_count": null,
   "metadata": {
    "execution": {
     "iopub.execute_input": "2024-01-08T10:36:23.716650Z",
     "iopub.status.busy": "2024-01-08T10:36:23.716369Z",
     "iopub.status.idle": "2024-01-08T10:36:23.720245Z",
     "shell.execute_reply": "2024-01-08T10:36:23.719442Z",
     "shell.execute_reply.started": "2024-01-08T10:36:23.716616Z"
    }
   },
   "outputs": [],
   "source": [
    "model.build(frames)"
   ]
  },
  {
   "cell_type": "markdown",
   "metadata": {},
   "source": [
    "## Load the Model"
   ]
  },
  {
   "cell_type": "code",
   "execution_count": null,
   "metadata": {
    "execution": {
     "iopub.execute_input": "2024-01-08T10:36:23.722456Z",
     "iopub.status.busy": "2024-01-08T10:36:23.722183Z",
     "iopub.status.idle": "2024-01-08T10:36:23.725816Z",
     "shell.execute_reply": "2024-01-08T10:36:23.725069Z",
     "shell.execute_reply.started": "2024-01-08T10:36:23.722399Z"
    }
   },
   "outputs": [],
   "source": [
    "previous_runs = 0"
   ]
  },
  {
   "cell_type": "code",
   "execution_count": null,
   "metadata": {
    "execution": {
     "iopub.execute_input": "2024-01-08T10:36:23.727350Z",
     "iopub.status.busy": "2024-01-08T10:36:23.727113Z",
     "iopub.status.idle": "2024-01-08T10:36:23.742388Z",
     "shell.execute_reply": "2024-01-08T10:36:23.741539Z",
     "shell.execute_reply.started": "2024-01-08T10:36:23.727327Z"
    }
   },
   "outputs": [],
   "source": [
    "previous_runs += 1\n",
    "\n",
    "model.compile(loss = keras.losses.SparseCategoricalCrossentropy(from_logits=True),\n",
    "              optimizer = keras.optimizers.Adam(learning_rate = 0.0001),\n",
    "              metrics=[\n",
    "                    'accuracy',\n",
    "                ]\n",
    "            )\n",
    "\n",
    "checkpoint_callback = tf.keras.callbacks.ModelCheckpoint(\n",
    "    RESULTS_PATH + '/model-runs-' + str(previous_runs) + '-cp-{epoch:02d}-{val_loss:.2f}.ckpt',\n",
    "    save_best_only=True,\n",
    "    monitor='val_loss',\n",
    "    mode='min',\n",
    "    save_weights_only=True\n",
    ")\n",
    "\n",
    "\n",
    "early_stopping = tf.keras.callbacks.EarlyStopping(\n",
    "    monitor='val_loss',\n",
    "    patience=10,\n",
    "    restore_best_weights=True\n",
    ")"
   ]
  },
  {
   "cell_type": "code",
   "execution_count": null,
   "metadata": {
    "execution": {
     "iopub.execute_input": "2024-01-08T10:36:23.743692Z",
     "iopub.status.busy": "2024-01-08T10:36:23.743472Z",
     "iopub.status.idle": "2024-01-08T10:36:23.748512Z",
     "shell.execute_reply": "2024-01-08T10:36:23.747862Z",
     "shell.execute_reply.started": "2024-01-08T10:36:23.743670Z"
    }
   },
   "outputs": [],
   "source": [
    "latest = tf.train.latest_checkpoint(RESULTS_PATH)\n",
    "\n",
    "if latest is not None:\n",
    "    print(f\"loading model from weights: {latest}\")\n",
    "    model.load_weights(latest)"
   ]
  },
  {
   "cell_type": "markdown",
   "metadata": {},
   "source": [
    "## Train the Model"
   ]
  },
  {
   "cell_type": "code",
   "execution_count": null,
   "metadata": {
    "execution": {
     "iopub.execute_input": "2024-01-08T10:36:23.749789Z",
     "iopub.status.busy": "2024-01-08T10:36:23.749540Z"
    }
   },
   "outputs": [],
   "source": [
    "previously_run_epochs = 0\n",
    "\n",
    "history = model.fit(\n",
    "        x=train_ds,\n",
    "        epochs = 50 - previously_run_epochs,\n",
    "        validation_data=val_ds,\n",
    "        callbacks=[checkpoint_callback, early_stopping],\n",
    "    )"
   ]
  },
  {
   "cell_type": "markdown",
   "metadata": {},
   "source": [
    "## Analyse results"
   ]
  },
  {
   "cell_type": "code",
   "execution_count": null,
   "metadata": {
    "execution": {
     "iopub.execute_input": "2024-01-08T01:27:35.580465Z",
     "iopub.status.busy": "2024-01-08T01:27:35.580465Z",
     "iopub.status.idle": "2024-01-08T01:30:14.553255Z",
     "shell.execute_reply": "2024-01-08T01:30:14.552104Z",
     "shell.execute_reply.started": "2024-01-08T01:27:35.580465Z"
    }
   },
   "outputs": [],
   "source": [
    "import numpy as np\n",
    "from scipy.special import softmax\n",
    "from sklearn.metrics import precision_recall_fscore_support, accuracy_score\n",
    "\n",
    "true_labels = []\n",
    "predictions = []\n",
    "\n",
    "for batch in test_ds:\n",
    "    x, y = batch\n",
    "    true_labels.extend(y.numpy())\n",
    "    preds = model.predict(x)\n",
    "    preds = softmax(preds, axis=1)\n",
    "    preds = np.argmax(preds, axis=1)\n",
    "    predictions.extend(preds)\n",
    "\n",
    "true_labels = np.array(true_labels)\n",
    "predictions = np.array(predictions)"
   ]
  },
  {
   "cell_type": "code",
   "execution_count": null,
   "metadata": {
    "execution": {
     "iopub.execute_input": "2024-01-08T01:30:26.131090Z",
     "iopub.status.busy": "2024-01-08T01:30:26.130897Z",
     "iopub.status.idle": "2024-01-08T01:30:26.151477Z",
     "shell.execute_reply": "2024-01-08T01:30:26.149863Z",
     "shell.execute_reply.started": "2024-01-08T01:30:26.131045Z"
    }
   },
   "outputs": [],
   "source": [
    "fg = FrameGenerator(\n",
    "    subset_paths['test'],\n",
    "    n_frames=n_frames,\n",
    "    index_df=index_df,\n",
    "    height=HEIGHT,\n",
    "    width=WIDTH,\n",
    "    frame_step=frame_step,\n",
    "    training=False\n",
    ")\n",
    "class_id_value = {\n",
    "    fg.class_ids_for_name[x]: x for x in fg.class_ids_for_name.keys()\n",
    " }\n",
    "\n",
    "true_labels = np.array(true_labels)\n",
    "predictions = np.array(predictions)\n",
    "\n",
    "accuracy = accuracy_score(true_labels, predictions)\n",
    "\n",
    "precision, recall, f1_score, _ = precision_recall_fscore_support(true_labels, predictions, average=None)\n",
    "\n",
    "print(f\"Overall Accuracy: {accuracy}\")\n",
    "for i, (prec, rec, f1) in enumerate(zip(precision, recall, f1_score)):\n",
    "    print(f\"Class {class_id_value[i]}: Precision: {prec}, Recall: {rec}, F1 Score: {f1}\")"
   ]
  }
 ],
 "metadata": {
  "kernelspec": {
   "display_name": "Python 3 (ipykernel)",
   "language": "python",
   "name": "python3"
  },
  "language_info": {
   "codemirror_mode": {
    "name": "ipython",
    "version": 3
   },
   "file_extension": ".py",
   "mimetype": "text/x-python",
   "name": "python",
   "nbconvert_exporter": "python",
   "pygments_lexer": "ipython3",
   "version": "3.10.12"
  }
 },
 "nbformat": 4,
 "nbformat_minor": 4
}
