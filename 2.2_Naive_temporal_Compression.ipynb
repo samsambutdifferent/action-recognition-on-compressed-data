{
 "cells": [
  {
   "cell_type": "markdown",
   "metadata": {},
   "source": [
    "# Temporal Compress data \n",
    "\n",
    "Reduce frame rate to temporally compress"
   ]
  },
  {
   "cell_type": "markdown",
   "metadata": {},
   "source": [
    "## Removing frames with opencv\n"
   ]
  },
  {
   "cell_type": "code",
   "execution_count": 1,
   "metadata": {
    "execution": {
     "iopub.execute_input": "2023-12-26T14:07:39.745382Z",
     "iopub.status.busy": "2023-12-26T14:07:39.744819Z",
     "iopub.status.idle": "2023-12-26T14:07:40.091804Z",
     "shell.execute_reply": "2023-12-26T14:07:40.090765Z",
     "shell.execute_reply.started": "2023-12-26T14:07:39.745353Z"
    }
   },
   "outputs": [],
   "source": [
    "import cv2\n",
    "import os\n",
    "import subprocess\n",
    "\n",
    "\n",
    "def temporal_compress_video(file_name, data_source, data_target, frame_proportion=2):\n",
    "    cap = cv2.VideoCapture(data_source + \"/\" + file_name)\n",
    "\n",
    "    frame_rate = int(cap.get(cv2.CAP_PROP_FPS))\n",
    "    width = int(cap.get(cv2.CAP_PROP_FRAME_WIDTH))\n",
    "    height = int(cap.get(cv2.CAP_PROP_FRAME_HEIGHT))\n",
    "\n",
    "    fourcc = cv2.VideoWriter_fourcc(*'XVID')\n",
    "    out = cv2.VideoWriter(f'{data_target}/{file_name}', fourcc, frame_rate, (width, height))\n",
    "\n",
    "    frame_count = 0\n",
    "\n",
    "    # Process the video\n",
    "    while cap.isOpened():\n",
    "        ret, frame = cap.read()\n",
    "        if not ret:\n",
    "            break\n",
    "\n",
    "        # Write every other frame based on frame_proportion\n",
    "        if frame_count % frame_proportion == 0:\n",
    "            out.write(frame)\n",
    "\n",
    "        frame_count += 1\n",
    "\n",
    "    # Release resources\n",
    "    cap.release()\n",
    "    out.release()\n",
    "\n",
    "\n",
    "def temporal_compress_video_set(data_source, data_target, frame_proportion):\n",
    "    for file in os.listdir(data_source):\n",
    "        temporal_compress_video(\n",
    "            file_name=file,\n",
    "            data_source=data_source,\n",
    "            data_target=data_target,\n",
    "            frame_proportion=frame_proportion\n",
    "            )\n"
   ]
  },
  {
   "cell_type": "markdown",
   "metadata": {},
   "source": [
    "### Temporal Compression: fpr 2"
   ]
  },
  {
   "cell_type": "code",
   "execution_count": 2,
   "metadata": {
    "execution": {
     "iopub.execute_input": "2023-12-26T14:07:52.119223Z",
     "iopub.status.busy": "2023-12-26T14:07:52.118761Z",
     "iopub.status.idle": "2023-12-26T14:10:24.463901Z",
     "shell.execute_reply": "2023-12-26T14:10:24.462618Z",
     "shell.execute_reply.started": "2023-12-26T14:07:52.119197Z"
    }
   },
   "outputs": [],
   "source": [
    "FRAME_PROPORTION = 2\n",
    "DATA_SOURCE = \"data_right_left_up_down_1200\"\n",
    "DATA_TARGET = f\"data_frp{FRAME_PROPORTION}_right_left_up_down_1200\"\n",
    "\n",
    "if DATA_TARGET not in os.listdir():\n",
    "    os.mkdir(DATA_TARGET)\n",
    "    os.mkdir(DATA_TARGET + \"/test\")\n",
    "    os.mkdir(DATA_TARGET + \"/train\")\n",
    "    os.mkdir(DATA_TARGET + \"/validation\")\n",
    "    status = subprocess.call(f'cp {DATA_SOURCE + \"/indx_df.csv\"} {DATA_TARGET + \"/indx_df.csv\"}', shell=True) \n",
    "\n",
    "temporal_compress_video_set(\n",
    "    data_source=DATA_SOURCE + \"/test\",\n",
    "    data_target=DATA_TARGET + \"/test\",\n",
    "    frame_proportion=FRAME_PROPORTION\n",
    ")\n",
    "temporal_compress_video_set(\n",
    "    data_source=DATA_SOURCE + \"/train\",\n",
    "    data_target=DATA_TARGET + \"/train\",\n",
    "    frame_proportion=FRAME_PROPORTION\n",
    ")\n",
    "temporal_compress_video_set(\n",
    "    data_source=DATA_SOURCE + \"/validation\",\n",
    "    data_target=DATA_TARGET + \"/validation\",\n",
    "    frame_proportion=FRAME_PROPORTION\n",
    ")"
   ]
  },
  {
   "cell_type": "markdown",
   "metadata": {},
   "source": [
    "### Temporal Compression: fpr 3"
   ]
  },
  {
   "cell_type": "code",
   "execution_count": null,
   "metadata": {},
   "outputs": [],
   "source": [
    "FRAME_PROPORTION = 3\n",
    "DATA_SOURCE = \"data_right_left_up_down_1200\"\n",
    "DATA_TARGET = f\"data_frp{FRAME_PROPORTION}_right_left_up_down_1200\"\n",
    "\n",
    "if DATA_TARGET not in os.listdir():\n",
    "    os.mkdir(DATA_TARGET)\n",
    "    os.mkdir(DATA_TARGET + \"/test\")\n",
    "    os.mkdir(DATA_TARGET + \"/train\")\n",
    "    os.mkdir(DATA_TARGET + \"/validation\")\n",
    "    status = subprocess.call(f'cp {DATA_SOURCE + \"/indx_df.csv\"} {DATA_TARGET + \"/indx_df.csv\"}', shell=True) \n",
    "\n",
    "temporal_compress_video_set(\n",
    "    data_source=DATA_SOURCE + \"/test\",\n",
    "    data_target=DATA_TARGET + \"/test\",\n",
    "    frame_proportion=FRAME_PROPORTION\n",
    ")\n",
    "temporal_compress_video_set(\n",
    "    data_source=DATA_SOURCE + \"/train\",\n",
    "    data_target=DATA_TARGET + \"/train\",\n",
    "    frame_proportion=FRAME_PROPORTION\n",
    ")\n",
    "temporal_compress_video_set(\n",
    "    data_source=DATA_SOURCE + \"/validation\",\n",
    "    data_target=DATA_TARGET + \"/validation\",\n",
    "    frame_proportion=FRAME_PROPORTION\n",
    ")"
   ]
  },
  {
   "cell_type": "markdown",
   "metadata": {},
   "source": [
    "### Temporal Compression: fpr 5"
   ]
  },
  {
   "cell_type": "code",
   "execution_count": null,
   "metadata": {},
   "outputs": [],
   "source": [
    "FRAME_PROPORTION = 3\n",
    "DATA_SOURCE = \"data_right_left_up_down_1200\"\n",
    "DATA_TARGET = f\"data_frp{FRAME_PROPORTION}_right_left_up_down_1200\"\n",
    "\n",
    "if DATA_TARGET not in os.listdir():\n",
    "    os.mkdir(DATA_TARGET)\n",
    "    os.mkdir(DATA_TARGET + \"/test\")\n",
    "    os.mkdir(DATA_TARGET + \"/train\")\n",
    "    os.mkdir(DATA_TARGET + \"/validation\")\n",
    "    status = subprocess.call(f'cp {DATA_SOURCE + \"/indx_df.csv\"} {DATA_TARGET + \"/indx_df.csv\"}', shell=True) \n",
    "\n",
    "temporal_compress_video_set(\n",
    "    data_source=DATA_SOURCE + \"/test\",\n",
    "    data_target=DATA_TARGET + \"/test\",\n",
    "    frame_proportion=FRAME_PROPORTION\n",
    ")\n",
    "temporal_compress_video_set(\n",
    "    data_source=DATA_SOURCE + \"/train\",\n",
    "    data_target=DATA_TARGET + \"/train\",\n",
    "    frame_proportion=FRAME_PROPORTION\n",
    ")\n",
    "temporal_compress_video_set(\n",
    "    data_source=DATA_SOURCE + \"/validation\",\n",
    "    data_target=DATA_TARGET + \"/validation\",\n",
    "    frame_proportion=FRAME_PROPORTION\n",
    ")"
   ]
  },
  {
   "cell_type": "markdown",
   "metadata": {},
   "source": [
    "### Temporal Compression: fpr 7"
   ]
  },
  {
   "cell_type": "code",
   "execution_count": null,
   "metadata": {},
   "outputs": [],
   "source": [
    "FRAME_PROPORTION = 3\n",
    "DATA_SOURCE = \"data_right_left_up_down_1200\"\n",
    "DATA_TARGET = f\"data_frp{FRAME_PROPORTION}_right_left_up_down_1200\"\n",
    "\n",
    "if DATA_TARGET not in os.listdir():\n",
    "    os.mkdir(DATA_TARGET)\n",
    "    os.mkdir(DATA_TARGET + \"/test\")\n",
    "    os.mkdir(DATA_TARGET + \"/train\")\n",
    "    os.mkdir(DATA_TARGET + \"/validation\")\n",
    "    status = subprocess.call(f'cp {DATA_SOURCE + \"/indx_df.csv\"} {DATA_TARGET + \"/indx_df.csv\"}', shell=True) \n",
    "\n",
    "temporal_compress_video_set(\n",
    "    data_source=DATA_SOURCE + \"/test\",\n",
    "    data_target=DATA_TARGET + \"/test\",\n",
    "    frame_proportion=FRAME_PROPORTION\n",
    ")\n",
    "temporal_compress_video_set(\n",
    "    data_source=DATA_SOURCE + \"/train\",\n",
    "    data_target=DATA_TARGET + \"/train\",\n",
    "    frame_proportion=FRAME_PROPORTION\n",
    ")\n",
    "temporal_compress_video_set(\n",
    "    data_source=DATA_SOURCE + \"/validation\",\n",
    "    data_target=DATA_TARGET + \"/validation\",\n",
    "    frame_proportion=FRAME_PROPORTION\n",
    ")"
   ]
  }
 ],
 "metadata": {
  "kernelspec": {
   "display_name": "Python 3 (ipykernel)",
   "language": "python",
   "name": "python3"
  },
  "language_info": {
   "codemirror_mode": {
    "name": "ipython",
    "version": 3
   },
   "file_extension": ".py",
   "mimetype": "text/x-python",
   "name": "python",
   "nbconvert_exporter": "python",
   "pygments_lexer": "ipython3",
   "version": "3.10.12"
  }
 },
 "nbformat": 4,
 "nbformat_minor": 4
}
