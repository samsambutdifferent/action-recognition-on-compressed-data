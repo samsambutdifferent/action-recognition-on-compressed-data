{
 "cells": [
  {
   "cell_type": "markdown",
   "metadata": {},
   "source": [
    "# Fetch Right Left Up Down Dataset From GCS"
   ]
  },
  {
   "cell_type": "code",
   "execution_count": 1,
   "metadata": {},
   "outputs": [],
   "source": [
    "import pandas as pd\n",
    "import os\n",
    "from google.cloud import storage"
   ]
  },
  {
   "cell_type": "code",
   "execution_count": 2,
   "metadata": {},
   "outputs": [],
   "source": [
    "file_prefix = \"right_left_up_down_1200\"\n",
    "data_folder = \"data_\" + file_prefix\n",
    "os.environ[\"GOOGLE_APPLICATION_CREDENTIALS\"] = \"gcsaccesskey.json\"\n",
    "\n",
    "\n",
    "if \"data_\" + file_prefix not in os.listdir():\n",
    "    os.mkdir(data_folder)\n",
    "    os.mkdir(data_folder + \"/train\")\n",
    "    os.mkdir(data_folder + \"/test\")\n",
    "    os.mkdir(data_folder + \"/validation\")\n",
    "\n",
    "    # Create a client\n",
    "    client = storage.Client()\n",
    "\n",
    "    labels_bucket = \"something-somethingv2-labels\"\n",
    "    labels_bucket = client.bucket(labels_bucket)\n",
    "\n",
    "\n",
    "    labels_bucket.blob(f\"{file_prefix}_indx_df.csv\").download_to_filename(data_folder + f\"/indx_df.csv\")"
   ]
  },
  {
   "cell_type": "code",
   "execution_count": 3,
   "metadata": {},
   "outputs": [],
   "source": [
    "indx_df = pd.read_csv(f\"{data_folder}/indx_df.csv\")"
   ]
  },
  {
   "cell_type": "markdown",
   "metadata": {},
   "source": [
    "## Download avi files from gcs"
   ]
  },
  {
   "cell_type": "code",
   "execution_count": 4,
   "metadata": {},
   "outputs": [],
   "source": [
    "# train_file_ids = list(indx_df[indx_df[\"type\"] == \"train\"][\"name\"])\n",
    "# test_file_ids = list(indx_df[indx_df[\"type\"] == \"test\"][\"name\"])\n",
    "# validation_file_ids = list(indx_df[indx_df[\"type\"] == \"validation\"][\"name\"])\n",
    "\n",
    "# def download_files_to_folder(folder_prefix, type, file_ids):\n",
    "#     client = storage.Client()\n",
    "\n",
    "#     bucket = \"something-somethingv2-avi\"\n",
    "#     bucket = client.bucket(bucket)\n",
    "\n",
    "#     for f_id in file_ids:\n",
    "#         bucket.blob(f\"{f_id}\").download_to_filename(f\"{folder_prefix}/{type}/{f_id}\")\n",
    "\n",
    "# download_files_to_folder(data_folder, \"train\", train_file_ids)\n",
    "# download_files_to_folder(data_folder, \"test\", test_file_ids)\n",
    "# download_files_to_folder(data_folder, \"validation\", validation_file_ids)"
   ]
  },
  {
   "cell_type": "markdown",
   "metadata": {},
   "source": [
    "## Validate Files"
   ]
  },
  {
   "cell_type": "code",
   "execution_count": 5,
   "metadata": {},
   "outputs": [],
   "source": [
    "from validate_files import validate_files_downloaded, check_folder_is_working\n",
    "\n",
    "validate_files_downloaded(data_folder)"
   ]
  },
  {
   "cell_type": "markdown",
   "metadata": {},
   "source": [
    "## Validate Videos"
   ]
  },
  {
   "cell_type": "code",
   "execution_count": 6,
   "metadata": {},
   "outputs": [],
   "source": [
    "check_folder_is_working(data_folder, \"test\")\n",
    "check_folder_is_working(data_folder, \"validation\")\n",
    "check_folder_is_working(data_folder, \"train\")"
   ]
  },
  {
   "cell_type": "code",
   "execution_count": null,
   "metadata": {},
   "outputs": [],
   "source": []
  }
 ],
 "metadata": {
  "kernelspec": {
   "display_name": "Python 3",
   "language": "python",
   "name": "python3"
  },
  "language_info": {
   "codemirror_mode": {
    "name": "ipython",
    "version": 3
   },
   "file_extension": ".py",
   "mimetype": "text/x-python",
   "name": "python",
   "nbconvert_exporter": "python",
   "pygments_lexer": "ipython3",
   "version": "3.10.13"
  },
  "orig_nbformat": 4
 },
 "nbformat": 4,
 "nbformat_minor": 2
}
