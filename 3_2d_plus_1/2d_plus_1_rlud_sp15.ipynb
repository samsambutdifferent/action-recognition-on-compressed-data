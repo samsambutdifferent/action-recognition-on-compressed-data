{
 "cells": [
  {
   "cell_type": "markdown",
   "metadata": {},
   "source": [
    "# Right Left up down spatial 15"
   ]
  },
  {
   "cell_type": "code",
   "execution_count": 2,
   "metadata": {
    "execution": {
     "iopub.execute_input": "2023-12-28T10:25:20.452226Z",
     "iopub.status.busy": "2023-12-28T10:25:20.451934Z",
     "iopub.status.idle": "2023-12-28T10:25:25.112862Z",
     "shell.execute_reply": "2023-12-28T10:25:25.111810Z",
     "shell.execute_reply.started": "2023-12-28T10:25:20.452199Z"
    }
   },
   "outputs": [],
   "source": [
    "import os\n",
    "from pathlib import Path\n",
    "import pickle\n",
    "\n",
    "import numpy as np\n",
    "# import remotezip as rz\n",
    "# import seaborn as sns\n",
    "import matplotlib.pyplot as plt\n",
    "import tensorflow as tf\n",
    "import keras\n",
    "import pandas as pd\n",
    "from sklearn.metrics import precision_recall_fscore_support\n",
    "\n",
    "from frame_generator import FrameGenerator\n",
    "from model import create_model, visualise_model"
   ]
  },
  {
   "cell_type": "code",
   "execution_count": 3,
   "metadata": {
    "execution": {
     "iopub.execute_input": "2023-12-28T10:25:25.114591Z",
     "iopub.status.busy": "2023-12-28T10:25:25.114083Z",
     "iopub.status.idle": "2023-12-28T10:25:25.164257Z",
     "shell.execute_reply": "2023-12-28T10:25:25.162809Z",
     "shell.execute_reply.started": "2023-12-28T10:25:25.114563Z"
    }
   },
   "outputs": [
    {
     "name": "stdout",
     "output_type": "stream",
     "text": [
      "classes being compared ['Pushing something from left to right'\n",
      " 'Pushing something from right to left' 'Moving something up'\n",
      " 'Moving something down']\n"
     ]
    }
   ],
   "source": [
    "DATA_PATH = \"data_15_right_left_up_down_1200\"\n",
    "NOTEBOOK_NAME = \"2_2d_plus_1_rlud_sp15_1200_n_step_2\"\n",
    "RESULTS_PATH = DATA_PATH + \"/\" + NOTEBOOK_NAME\n",
    "\n",
    "# PARAMS\n",
    "# number of frames taken from each video\n",
    "n_frames = 36\n",
    "# number of frames skipped from each video\n",
    "frame_step = 2\n",
    "batch_size = 8\n",
    "# Define the dimensions of one frame in the set of frames created\n",
    "HEIGHT = 224\n",
    "WIDTH = 224\n",
    "\n",
    "assert(os.path.isdir(DATA_PATH ))\n",
    "\n",
    "if not os.path.isdir(RESULTS_PATH):\n",
    "    os.mkdir(RESULTS_PATH)\n",
    "\n",
    "index_df = pd.read_csv(f'{DATA_PATH}/indx_df.csv')\n",
    "\n",
    "print(f\"classes being compared {index_df['category'].unique()}\")"
   ]
  },
  {
   "cell_type": "code",
   "execution_count": 4,
   "metadata": {
    "execution": {
     "iopub.execute_input": "2023-12-28T10:25:25.167987Z",
     "iopub.status.busy": "2023-12-28T10:25:25.167182Z",
     "iopub.status.idle": "2023-12-28T10:25:50.092151Z",
     "shell.execute_reply": "2023-12-28T10:25:50.091282Z",
     "shell.execute_reply.started": "2023-12-28T10:25:25.167952Z"
    }
   },
   "outputs": [
    {
     "name": "stdout",
     "output_type": "stream",
     "text": [
      "Average: 46.21875\n",
      "Maximum: 71\n",
      "Minimum: 30\n"
     ]
    }
   ],
   "source": [
    "from validate_files import get_video_lengths\n",
    "\n",
    "lengths_array = get_video_lengths(f\"./{DATA_PATH}/test/\")\n",
    "np.append(lengths_array, get_video_lengths(f\"./{DATA_PATH}/train/\"))\n",
    "np.append(lengths_array, get_video_lengths(f\"./{DATA_PATH}/validation/\"))\n",
    "\n",
    "# Calculate average\n",
    "average = np.mean(lengths_array)\n",
    "\n",
    "# Calculate maximum\n",
    "maximum = np.max(lengths_array)\n",
    "\n",
    "# Calculate minimum\n",
    "minimum = np.min(lengths_array)\n",
    "\n",
    "print(\"Average:\", average)\n",
    "print(\"Maximum:\", maximum)\n",
    "print(\"Minimum:\", minimum)"
   ]
  },
  {
   "cell_type": "markdown",
   "metadata": {},
   "source": [
    "## Preprocess video data\n",
    "\n",
    "Load something something data tf.data.Dataset"
   ]
  },
  {
   "cell_type": "code",
   "execution_count": 5,
   "metadata": {
    "execution": {
     "iopub.execute_input": "2023-12-28T10:25:50.093631Z",
     "iopub.status.busy": "2023-12-28T10:25:50.093372Z",
     "iopub.status.idle": "2023-12-28T10:25:51.974908Z",
     "shell.execute_reply": "2023-12-28T10:25:51.974226Z",
     "shell.execute_reply.started": "2023-12-28T10:25:50.093606Z"
    }
   },
   "outputs": [
    {
     "name": "stdout",
     "output_type": "stream",
     "text": [
      "<class 'tensorflow.python.data.ops.dataset_ops.FlatMapDataset'>\n",
      "<class 'tensorflow.python.data.ops.dataset_ops.BatchDataset'>\n"
     ]
    }
   ],
   "source": [
    "subset_paths = {\n",
    "    \"test\": Path(f'{DATA_PATH}/test'),\n",
    "    \"train\": Path(f'{DATA_PATH}/train'),\n",
    "    \"val\": Path(f'{DATA_PATH}/validation'),\n",
    "}\n",
    "\n",
    "output_signature = (\n",
    "    tf.TensorSpec(shape = (None, None, None, 3), dtype = tf.float32),\n",
    "    tf.TensorSpec(shape = (), dtype = tf.int16)\n",
    ")\n",
    "\n",
    "train_ds = tf.data.Dataset.from_generator(\n",
    "    FrameGenerator(subset_paths['train'],\n",
    "        n_frames=n_frames,\n",
    "        index_df=index_df,\n",
    "        frame_step=frame_step,\n",
    "        training=True\n",
    "    ),\n",
    "    output_signature = output_signature\n",
    ")\n",
    "# Batch the data\n",
    "train_ds = train_ds.batch(batch_size)\n",
    "\n",
    "val_ds = tf.data.Dataset.from_generator(\n",
    "    FrameGenerator(\n",
    "        subset_paths['val'],\n",
    "        n_frames=n_frames,\n",
    "        index_df=index_df,\n",
    "        frame_step=frame_step,\n",
    "        training=False\n",
    "    ),\n",
    "    output_signature = output_signature\n",
    ")\n",
    "# Batch the data\n",
    "val_ds = val_ds.batch(batch_size)\n",
    "\n",
    "test_ds = tf.data.Dataset.from_generator(\n",
    "    FrameGenerator(\n",
    "        subset_paths['test'],\n",
    "        n_frames=n_frames,\n",
    "        index_df=index_df,\n",
    "        frame_step=frame_step,\n",
    "        training=False\n",
    "    ),\n",
    "    output_signature = output_signature\n",
    ")\n",
    "\n",
    "print(type(test_ds))\n",
    "\n",
    "# Batch the data\n",
    "test_ds = test_ds.batch(batch_size)\n",
    "\n",
    "print(type(test_ds))\n"
   ]
  },
  {
   "cell_type": "markdown",
   "metadata": {},
   "source": [
    "## Model Creation"
   ]
  },
  {
   "cell_type": "code",
   "execution_count": 6,
   "metadata": {
    "execution": {
     "iopub.execute_input": "2023-12-28T10:25:51.976749Z",
     "iopub.status.busy": "2023-12-28T10:25:51.975962Z",
     "iopub.status.idle": "2023-12-28T10:25:55.212667Z",
     "shell.execute_reply": "2023-12-28T10:25:55.211561Z",
     "shell.execute_reply.started": "2023-12-28T10:25:51.976721Z"
    }
   },
   "outputs": [],
   "source": [
    "model = create_model(n_frames=n_frames, height=HEIGHT, width=WIDTH)"
   ]
  },
  {
   "cell_type": "markdown",
   "metadata": {},
   "source": [
    "## Validate Model and Data"
   ]
  },
  {
   "cell_type": "code",
   "execution_count": 7,
   "metadata": {
    "execution": {
     "iopub.execute_input": "2023-12-28T10:25:55.214083Z",
     "iopub.status.busy": "2023-12-28T10:25:55.213832Z",
     "iopub.status.idle": "2023-12-28T10:25:55.384892Z",
     "shell.execute_reply": "2023-12-28T10:25:55.383609Z",
     "shell.execute_reply.started": "2023-12-28T10:25:55.214059Z"
    }
   },
   "outputs": [
    {
     "data": {
      "text/plain": [
       "<tensorflow.python.data.ops.iterator_ops.OwnedIterator at 0x7f2de8929160>"
      ]
     },
     "execution_count": 7,
     "metadata": {},
     "output_type": "execute_result"
    }
   ],
   "source": [
    "# testing tensor is setup correct\n",
    "iter(train_ds)"
   ]
  },
  {
   "cell_type": "markdown",
   "metadata": {},
   "source": [
    "## Build Model"
   ]
  },
  {
   "cell_type": "code",
   "execution_count": 8,
   "metadata": {
    "execution": {
     "iopub.execute_input": "2023-12-28T10:25:55.387773Z",
     "iopub.status.busy": "2023-12-28T10:25:55.386589Z",
     "iopub.status.idle": "2023-12-28T10:26:00.535407Z",
     "shell.execute_reply": "2023-12-28T10:26:00.534289Z",
     "shell.execute_reply.started": "2023-12-28T10:25:55.387704Z"
    }
   },
   "outputs": [],
   "source": [
    "frames, label = next(iter(train_ds))"
   ]
  },
  {
   "cell_type": "code",
   "execution_count": 9,
   "metadata": {
    "execution": {
     "iopub.execute_input": "2023-12-28T10:26:00.537294Z",
     "iopub.status.busy": "2023-12-28T10:26:00.536961Z",
     "iopub.status.idle": "2023-12-28T10:26:00.542153Z",
     "shell.execute_reply": "2023-12-28T10:26:00.541283Z",
     "shell.execute_reply.started": "2023-12-28T10:26:00.537267Z"
    }
   },
   "outputs": [],
   "source": [
    "model.build(frames)"
   ]
  },
  {
   "cell_type": "markdown",
   "metadata": {},
   "source": [
    "## Visualise Model"
   ]
  },
  {
   "cell_type": "code",
   "execution_count": 10,
   "metadata": {
    "execution": {
     "iopub.execute_input": "2023-12-28T10:26:00.544767Z",
     "iopub.status.busy": "2023-12-28T10:26:00.544510Z",
     "iopub.status.idle": "2023-12-28T10:26:00.630506Z",
     "shell.execute_reply": "2023-12-28T10:26:00.628682Z",
     "shell.execute_reply.started": "2023-12-28T10:26:00.544741Z"
    }
   },
   "outputs": [
    {
     "name": "stdout",
     "output_type": "stream",
     "text": [
      "Model: \"model\"\n",
      "__________________________________________________________________________________________________\n",
      " Layer (type)                   Output Shape         Param #     Connected to                     \n",
      "==================================================================================================\n",
      " input_1 (InputLayer)           [(None, 36, 224, 22  0           []                               \n",
      "                                4, 3)]                                                            \n",
      "                                                                                                  \n",
      " conv2_plus1d (Conv2Plus1D)     (None, 36, 224, 224  3152        ['input_1[0][0]']                \n",
      "                                , 16)                                                             \n",
      "                                                                                                  \n",
      " batch_normalization (BatchNorm  (None, 36, 224, 224  64         ['conv2_plus1d[0][0]']           \n",
      " alization)                     , 16)                                                             \n",
      "                                                                                                  \n",
      " re_lu (ReLU)                   (None, 36, 224, 224  0           ['batch_normalization[0][0]']    \n",
      "                                , 16)                                                             \n",
      "                                                                                                  \n",
      " resize_video (ResizeVideo)     (None, 36, 112, 112  0           ['re_lu[0][0]']                  \n",
      "                                , 16)                                                             \n",
      "                                                                                                  \n",
      " residual_main (ResidualMain)   (None, 36, 112, 112  6272        ['resize_video[0][0]']           \n",
      "                                , 16)                                                             \n",
      "                                                                                                  \n",
      " add (Add)                      (None, 36, 112, 112  0           ['resize_video[0][0]',           \n",
      "                                , 16)                             'residual_main[0][0]']          \n",
      "                                                                                                  \n",
      " resize_video_1 (ResizeVideo)   (None, 36, 56, 56,   0           ['add[0][0]']                    \n",
      "                                16)                                                               \n",
      "                                                                                                  \n",
      " project (Project)              (None, 36, 56, 56,   608         ['resize_video_1[0][0]']         \n",
      "                                32)                                                               \n",
      "                                                                                                  \n",
      " residual_main_1 (ResidualMain)  (None, 36, 56, 56,   20224      ['resize_video_1[0][0]']         \n",
      "                                32)                                                               \n",
      "                                                                                                  \n",
      " add_1 (Add)                    (None, 36, 56, 56,   0           ['project[0][0]',                \n",
      "                                32)                               'residual_main_1[0][0]']        \n",
      "                                                                                                  \n",
      " resize_video_2 (ResizeVideo)   (None, 36, 28, 28,   0           ['add_1[0][0]']                  \n",
      "                                32)                                                               \n",
      "                                                                                                  \n",
      " project_1 (Project)            (None, 36, 28, 28,   2240        ['resize_video_2[0][0]']         \n",
      "                                64)                                                               \n",
      "                                                                                                  \n",
      " residual_main_2 (ResidualMain)  (None, 36, 28, 28,   80384      ['resize_video_2[0][0]']         \n",
      "                                64)                                                               \n",
      "                                                                                                  \n",
      " add_2 (Add)                    (None, 36, 28, 28,   0           ['project_1[0][0]',              \n",
      "                                64)                               'residual_main_2[0][0]']        \n",
      "                                                                                                  \n",
      " resize_video_3 (ResizeVideo)   (None, 36, 14, 14,   0           ['add_2[0][0]']                  \n",
      "                                64)                                                               \n",
      "                                                                                                  \n",
      " project_2 (Project)            (None, 36, 14, 14,   8576        ['resize_video_3[0][0]']         \n",
      "                                128)                                                              \n",
      "                                                                                                  \n",
      " residual_main_3 (ResidualMain)  (None, 36, 14, 14,   320512     ['resize_video_3[0][0]']         \n",
      "                                128)                                                              \n",
      "                                                                                                  \n",
      " add_3 (Add)                    (None, 36, 14, 14,   0           ['project_2[0][0]',              \n",
      "                                128)                              'residual_main_3[0][0]']        \n",
      "                                                                                                  \n",
      " global_average_pooling3d (Glob  (None, 128)         0           ['add_3[0][0]']                  \n",
      " alAveragePooling3D)                                                                              \n",
      "                                                                                                  \n",
      " flatten (Flatten)              (None, 128)          0           ['global_average_pooling3d[0][0]'\n",
      "                                                                 ]                                \n",
      "                                                                                                  \n",
      " dense_3 (Dense)                (None, 4)            516         ['flatten[0][0]']                \n",
      "                                                                                                  \n",
      "==================================================================================================\n",
      "Total params: 442,548\n",
      "Trainable params: 442,516\n",
      "Non-trainable params: 32\n",
      "__________________________________________________________________________________________________\n"
     ]
    }
   ],
   "source": [
    "model.summary()"
   ]
  },
  {
   "cell_type": "code",
   "execution_count": 11,
   "metadata": {
    "execution": {
     "iopub.execute_input": "2023-12-28T10:26:00.632557Z",
     "iopub.status.busy": "2023-12-28T10:26:00.632145Z",
     "iopub.status.idle": "2023-12-28T10:26:00.724582Z",
     "shell.execute_reply": "2023-12-28T10:26:00.723499Z",
     "shell.execute_reply.started": "2023-12-28T10:26:00.632515Z"
    }
   },
   "outputs": [
    {
     "name": "stdout",
     "output_type": "stream",
     "text": [
      "You must install pydot (`pip install pydot`) and install graphviz (see instructions at https://graphviz.gitlab.io/download/) for plot_model/model_to_dot to work.\n"
     ]
    }
   ],
   "source": [
    "visualise_model(\n",
    "    model=model,\n",
    "    file_path=DATA_PATH + \"/model_summary.dot\"\n",
    ")"
   ]
  },
  {
   "cell_type": "markdown",
   "metadata": {},
   "source": [
    "## Load the Model\n",
    "\n",
    "Using BinaryCrossentropy as it is more effective for binary data\n",
    "\n",
    "from_logits is false because final layer includes a sigmoid activation,"
   ]
  },
  {
   "cell_type": "code",
   "execution_count": 12,
   "metadata": {
    "execution": {
     "iopub.execute_input": "2023-12-28T10:26:36.994607Z",
     "iopub.status.busy": "2023-12-28T10:26:36.994243Z",
     "iopub.status.idle": "2023-12-28T10:26:36.999930Z",
     "shell.execute_reply": "2023-12-28T10:26:36.998918Z",
     "shell.execute_reply.started": "2023-12-28T10:26:36.994579Z"
    }
   },
   "outputs": [],
   "source": [
    "previous_runs = 2"
   ]
  },
  {
   "cell_type": "code",
   "execution_count": 13,
   "metadata": {
    "execution": {
     "iopub.execute_input": "2023-12-28T10:26:37.251246Z",
     "iopub.status.busy": "2023-12-28T10:26:37.250679Z",
     "iopub.status.idle": "2023-12-28T10:26:37.294203Z",
     "shell.execute_reply": "2023-12-28T10:26:37.293285Z",
     "shell.execute_reply.started": "2023-12-28T10:26:37.251205Z"
    }
   },
   "outputs": [],
   "source": [
    "previous_runs += 1\n",
    "\n",
    "model.compile(loss = keras.losses.SparseCategoricalCrossentropy(from_logits=True),\n",
    "              optimizer = keras.optimizers.Adam(learning_rate = 0.0001),\n",
    "              metrics=[\n",
    "                    'accuracy',\n",
    "                    # tf.keras.metrics.Precision(),\n",
    "                    # tf.keras.metrics.Recall()\n",
    "                    # tf.keras.metrics.Precision(class_id=0, name='precision_neg'),\n",
    "                    # tf.keras.metrics.Precision(class_id=1, name='precision_pos'),\n",
    "                    # tf.keras.metrics.Recall(class_id=0, name='recall_neg'),\n",
    "                    # tf.keras.metrics.Recall(class_id=1, name='recall_pos')\n",
    "                ]\n",
    "            )\n",
    "\n",
    "checkpoint_callback = tf.keras.callbacks.ModelCheckpoint(\n",
    "    RESULTS_PATH + '/model-runs-' + str(previous_runs) + '-cp-{epoch:02d}-{val_loss:.2f}.ckpt',\n",
    "    save_best_only=True,  # Save only the best model based on a monitored metric (e.g., val_loss), will only replace saved value if it is better\n",
    "    monitor='val_loss',\n",
    "    mode='min',  # 'min' for loss, 'max' for accuracy\n",
    "    save_weights_only=True\n",
    ")\n",
    "\n",
    "\n",
    "early_stopping = tf.keras.callbacks.EarlyStopping(\n",
    "    monitor='val_loss',\n",
    "    patience=10,  # Number of epochs with no improvement after which training will be stopped\n",
    "    restore_best_weights=True\n",
    ")"
   ]
  },
  {
   "cell_type": "code",
   "execution_count": 14,
   "metadata": {
    "execution": {
     "iopub.execute_input": "2023-12-28T10:26:37.767666Z",
     "iopub.status.busy": "2023-12-28T10:26:37.767179Z",
     "iopub.status.idle": "2023-12-28T10:26:38.122377Z",
     "shell.execute_reply": "2023-12-28T10:26:38.121360Z",
     "shell.execute_reply.started": "2023-12-28T10:26:37.767617Z"
    }
   },
   "outputs": [
    {
     "name": "stdout",
     "output_type": "stream",
     "text": [
      "loading model from weights: data_15_right_left_up_down_1200/2_2d_plus_1_rlud_sp15_1200_n_step_2/model-runs-2-cp-11-0.35.ckpt\n"
     ]
    }
   ],
   "source": [
    "latest = tf.train.latest_checkpoint(RESULTS_PATH)\n",
    "\n",
    "if latest is not None:\n",
    "    print(f\"loading model from weights: {latest}\")\n",
    "    model.load_weights(latest)"
   ]
  },
  {
   "cell_type": "markdown",
   "metadata": {},
   "source": [
    "## Train the Model"
   ]
  },
  {
   "cell_type": "code",
   "execution_count": null,
   "metadata": {
    "execution": {
     "iopub.execute_input": "2023-12-28T10:26:40.555919Z",
     "iopub.status.busy": "2023-12-28T10:26:40.554711Z"
    }
   },
   "outputs": [
    {
     "name": "stdout",
     "output_type": "stream",
     "text": [
      "Epoch 1/25\n",
      "480/480 [==============================] - 1608s 3s/step - loss: 0.4101 - accuracy: 0.8505 - val_loss: 0.4608 - val_accuracy: 0.8208\n",
      "Epoch 2/25\n",
      "480/480 [==============================] - 1645s 3s/step - loss: 0.3981 - accuracy: 0.8521 - val_loss: 0.3574 - val_accuracy: 0.8687\n",
      "Epoch 3/25\n",
      "480/480 [==============================] - 1612s 3s/step - loss: 0.3899 - accuracy: 0.8612 - val_loss: 0.3479 - val_accuracy: 0.8792\n",
      "Epoch 4/25\n",
      "480/480 [==============================] - 1644s 3s/step - loss: 0.3623 - accuracy: 0.8703 - val_loss: 0.3408 - val_accuracy: 0.8750\n",
      "Epoch 5/25\n",
      "480/480 [==============================] - 1618s 3s/step - loss: 0.3463 - accuracy: 0.8797 - val_loss: 0.3402 - val_accuracy: 0.8813\n",
      "Epoch 6/25\n",
      "480/480 [==============================] - 1648s 3s/step - loss: 0.3334 - accuracy: 0.8781 - val_loss: 0.3468 - val_accuracy: 0.8771\n",
      "Epoch 7/25\n",
      "480/480 [==============================] - 1626s 3s/step - loss: 0.3163 - accuracy: 0.8891 - val_loss: 0.3368 - val_accuracy: 0.8646\n",
      "Epoch 8/25\n",
      "480/480 [==============================] - 1620s 3s/step - loss: 0.3101 - accuracy: 0.8958 - val_loss: 0.3553 - val_accuracy: 0.8771\n",
      "Epoch 9/25\n",
      "480/480 [==============================] - 1643s 3s/step - loss: 0.2912 - accuracy: 0.8969 - val_loss: 0.3101 - val_accuracy: 0.8792\n",
      "Epoch 10/25\n",
      "480/480 [==============================] - 1638s 3s/step - loss: 0.2904 - accuracy: 0.9003 - val_loss: 0.2845 - val_accuracy: 0.8875\n",
      "Epoch 11/25\n",
      "480/480 [==============================] - 1638s 3s/step - loss: 0.2661 - accuracy: 0.9125 - val_loss: 0.3668 - val_accuracy: 0.8625\n",
      "Epoch 12/25\n",
      "480/480 [==============================] - 1620s 3s/step - loss: 0.2670 - accuracy: 0.9083 - val_loss: 0.3126 - val_accuracy: 0.8917\n",
      "Epoch 13/25\n",
      "457/480 [===========================>..] - ETA: 1:11 - loss: 0.2582 - accuracy: 0.9075"
     ]
    }
   ],
   "source": [
    "previously_run_epochs = 0 + 13 + 12\n",
    "history = model.fit(\n",
    "        x=train_ds,\n",
    "        epochs = 50 - previously_run_epochs,\n",
    "        validation_data=val_ds,\n",
    "        callbacks=[checkpoint_callback, early_stopping],\n",
    "    )"
   ]
  },
  {
   "cell_type": "markdown",
   "metadata": {},
   "source": [
    "## Analyse results"
   ]
  },
  {
   "cell_type": "code",
   "execution_count": 18,
   "metadata": {
    "execution": {
     "iopub.execute_input": "2023-12-24T13:53:42.398836Z",
     "iopub.status.busy": "2023-12-24T13:53:42.398074Z",
     "iopub.status.idle": "2023-12-24T13:56:12.718886Z",
     "shell.execute_reply": "2023-12-24T13:56:12.717773Z",
     "shell.execute_reply.started": "2023-12-24T13:53:42.398798Z"
    }
   },
   "outputs": [
    {
     "name": "stderr",
     "output_type": "stream",
     "text": [
      "2023-12-24 13:53:44.384908: W tensorflow/core/framework/cpu_allocator_impl.cc:82] Allocation of 173408256 exceeds 10% of free system memory.\n",
      "2023-12-24 13:53:45.818856: W tensorflow/core/framework/cpu_allocator_impl.cc:82] Allocation of 173408256 exceeds 10% of free system memory.\n"
     ]
    },
    {
     "name": "stdout",
     "output_type": "stream",
     "text": [
      "1/1 [==============================] - 7s 7s/step\n"
     ]
    },
    {
     "name": "stderr",
     "output_type": "stream",
     "text": [
      "2023-12-24 13:53:53.122601: W tensorflow/core/framework/cpu_allocator_impl.cc:82] Allocation of 173408256 exceeds 10% of free system memory.\n",
      "2023-12-24 13:53:53.258134: W tensorflow/core/framework/cpu_allocator_impl.cc:82] Allocation of 173408256 exceeds 10% of free system memory.\n"
     ]
    },
    {
     "name": "stdout",
     "output_type": "stream",
     "text": [
      "1/1 [==============================] - 1s 895ms/step\n",
      "1/1 [==============================] - 1s 899ms/step\n",
      "1/1 [==============================] - 1s 887ms/step\n",
      "1/1 [==============================] - 1s 891ms/step\n",
      "1/1 [==============================] - 1s 895ms/step\n",
      "1/1 [==============================] - 1s 899ms/step\n",
      "1/1 [==============================] - 1s 887ms/step\n",
      "1/1 [==============================] - 1s 892ms/step\n",
      "1/1 [==============================] - 1s 893ms/step\n",
      "1/1 [==============================] - 1s 899ms/step\n",
      "1/1 [==============================] - 1s 883ms/step\n",
      "1/1 [==============================] - 1s 892ms/step\n",
      "1/1 [==============================] - 1s 896ms/step\n",
      "1/1 [==============================] - 1s 888ms/step\n",
      "1/1 [==============================] - 1s 896ms/step\n",
      "1/1 [==============================] - 1s 881ms/step\n",
      "1/1 [==============================] - 1s 878ms/step\n",
      "1/1 [==============================] - 1s 912ms/step\n",
      "1/1 [==============================] - 1s 887ms/step\n",
      "1/1 [==============================] - 1s 890ms/step\n",
      "1/1 [==============================] - 1s 886ms/step\n",
      "1/1 [==============================] - 1s 907ms/step\n",
      "1/1 [==============================] - 1s 889ms/step\n",
      "1/1 [==============================] - 1s 889ms/step\n",
      "1/1 [==============================] - 1s 882ms/step\n",
      "1/1 [==============================] - 1s 888ms/step\n",
      "1/1 [==============================] - 1s 894ms/step\n",
      "1/1 [==============================] - 1s 897ms/step\n",
      "1/1 [==============================] - 1s 895ms/step\n",
      "1/1 [==============================] - 1s 918ms/step\n",
      "1/1 [==============================] - 1s 910ms/step\n",
      "1/1 [==============================] - 1s 892ms/step\n",
      "1/1 [==============================] - 1s 891ms/step\n",
      "1/1 [==============================] - 1s 906ms/step\n",
      "1/1 [==============================] - 1s 894ms/step\n",
      "1/1 [==============================] - 1s 893ms/step\n",
      "1/1 [==============================] - 1s 884ms/step\n",
      "1/1 [==============================] - 1s 907ms/step\n",
      "1/1 [==============================] - 1s 899ms/step\n",
      "1/1 [==============================] - 1s 893ms/step\n",
      "1/1 [==============================] - 1s 895ms/step\n",
      "1/1 [==============================] - 1s 888ms/step\n",
      "1/1 [==============================] - 1s 887ms/step\n",
      "1/1 [==============================] - 1s 901ms/step\n",
      "1/1 [==============================] - 1s 919ms/step\n",
      "1/1 [==============================] - 1s 890ms/step\n",
      "1/1 [==============================] - 1s 890ms/step\n",
      "1/1 [==============================] - 1s 865ms/step\n",
      "1/1 [==============================] - 1s 886ms/step\n",
      "1/1 [==============================] - 1s 897ms/step\n",
      "1/1 [==============================] - 1s 896ms/step\n",
      "1/1 [==============================] - 1s 895ms/step\n",
      "1/1 [==============================] - 1s 899ms/step\n",
      "1/1 [==============================] - 1s 908ms/step\n",
      "1/1 [==============================] - 1s 888ms/step\n",
      "1/1 [==============================] - 1s 915ms/step\n",
      "1/1 [==============================] - 1s 899ms/step\n",
      "1/1 [==============================] - 1s 891ms/step\n",
      "1/1 [==============================] - 1s 893ms/step\n"
     ]
    }
   ],
   "source": [
    "import numpy as np\n",
    "from scipy.special import softmax\n",
    "from sklearn.metrics import precision_recall_fscore_support, accuracy_score\n",
    "\n",
    "true_labels = []\n",
    "predictions = []\n",
    "\n",
    "for batch in test_ds:\n",
    "    x, y = batch\n",
    "    true_labels.extend(y.numpy())\n",
    "    preds = model.predict(x)\n",
    "    preds = softmax(preds, axis=1)\n",
    "    preds = np.argmax(preds, axis=1)\n",
    "    predictions.extend(preds)\n",
    "\n",
    "true_labels = np.array(true_labels)\n",
    "predictions = np.array(predictions)"
   ]
  },
  {
   "cell_type": "code",
   "execution_count": 19,
   "metadata": {
    "execution": {
     "iopub.execute_input": "2023-12-24T13:56:12.721151Z",
     "iopub.status.busy": "2023-12-24T13:56:12.720798Z",
     "iopub.status.idle": "2023-12-24T13:56:12.734477Z",
     "shell.execute_reply": "2023-12-24T13:56:12.733482Z",
     "shell.execute_reply.started": "2023-12-24T13:56:12.721111Z"
    }
   },
   "outputs": [
    {
     "name": "stdout",
     "output_type": "stream",
     "text": [
      "Overall Accuracy: 0.9166666666666666\n",
      "Class Pushing something from left to right: Precision: 0.9661016949152542, Recall: 0.95, F1 Score: 0.957983193277311\n",
      "Class Pushing something from right to left: Precision: 0.9734513274336283, Recall: 0.9166666666666666, F1 Score: 0.944206008583691\n",
      "Class Moving something up: Precision: 0.8296296296296296, Recall: 0.9333333333333333, F1 Score: 0.8784313725490196\n",
      "Class Moving something down: Precision: 0.9122807017543859, Recall: 0.8666666666666667, F1 Score: 0.8888888888888888\n"
     ]
    }
   ],
   "source": [
    "fg = FrameGenerator(\n",
    "    subset_paths['test'],\n",
    "    n_frames=n_frames,\n",
    "    index_df=index_df,\n",
    "    frame_step=frame_step,\n",
    "    training=False\n",
    ")\n",
    "class_id_value = {\n",
    "    fg.class_ids_for_name[x]: x for x in fg.class_ids_for_name.keys()\n",
    " }\n",
    "\n",
    "true_labels = np.array(true_labels)\n",
    "predictions = np.array(predictions)\n",
    "\n",
    "accuracy = accuracy_score(true_labels, predictions)\n",
    "\n",
    "precision, recall, f1_score, _ = precision_recall_fscore_support(true_labels, predictions, average=None)\n",
    "\n",
    "print(f\"Overall Accuracy: {accuracy}\")\n",
    "for i, (prec, rec, f1) in enumerate(zip(precision, recall, f1_score)):\n",
    "    print(f\"Class {class_id_value[i]}: Precision: {prec}, Recall: {rec}, F1 Score: {f1}\")"
   ]
  }
 ],
 "metadata": {
  "kernelspec": {
   "display_name": "Python 3 (ipykernel)",
   "language": "python",
   "name": "python3"
  },
  "language_info": {
   "codemirror_mode": {
    "name": "ipython",
    "version": 3
   },
   "file_extension": ".py",
   "mimetype": "text/x-python",
   "name": "python",
   "nbconvert_exporter": "python",
   "pygments_lexer": "ipython3",
   "version": "3.9.16"
  }
 },
 "nbformat": 4,
 "nbformat_minor": 4
}
